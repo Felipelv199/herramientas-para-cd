{
 "cells": [
  {
   "cell_type": "code",
   "execution_count": 1,
   "metadata": {},
   "outputs": [
    {
     "data": {
      "text/html": [
       "<div>\n",
       "<style scoped>\n",
       "    .dataframe tbody tr th:only-of-type {\n",
       "        vertical-align: middle;\n",
       "    }\n",
       "\n",
       "    .dataframe tbody tr th {\n",
       "        vertical-align: top;\n",
       "    }\n",
       "\n",
       "    .dataframe thead th {\n",
       "        text-align: right;\n",
       "    }\n",
       "</style>\n",
       "<table border=\"1\" class=\"dataframe\">\n",
       "  <thead>\n",
       "    <tr style=\"text-align: right;\">\n",
       "      <th></th>\n",
       "      <th>city_id</th>\n",
       "      <th>period_start</th>\n",
       "      <th>wait_time</th>\n",
       "      <th>treat</th>\n",
       "      <th>commute</th>\n",
       "      <th>trips_pool</th>\n",
       "      <th>trips_express</th>\n",
       "      <th>rider_cancellations</th>\n",
       "      <th>total_driver_payout</th>\n",
       "      <th>total_matches</th>\n",
       "      <th>total_double_matches</th>\n",
       "    </tr>\n",
       "  </thead>\n",
       "  <tbody>\n",
       "    <tr>\n",
       "      <th>0</th>\n",
       "      <td>Boston</td>\n",
       "      <td>2018-02-19 07:00:00</td>\n",
       "      <td>2 mins</td>\n",
       "      <td>False</td>\n",
       "      <td>True</td>\n",
       "      <td>1415</td>\n",
       "      <td>3245</td>\n",
       "      <td>256</td>\n",
       "      <td>34458.411634</td>\n",
       "      <td>3372</td>\n",
       "      <td>1476</td>\n",
       "    </tr>\n",
       "    <tr>\n",
       "      <th>1</th>\n",
       "      <td>Boston</td>\n",
       "      <td>2018-02-19 09:40:00</td>\n",
       "      <td>5 mins</td>\n",
       "      <td>True</td>\n",
       "      <td>False</td>\n",
       "      <td>1461</td>\n",
       "      <td>2363</td>\n",
       "      <td>203</td>\n",
       "      <td>29764.349821</td>\n",
       "      <td>2288</td>\n",
       "      <td>1275</td>\n",
       "    </tr>\n",
       "    <tr>\n",
       "      <th>2</th>\n",
       "      <td>Boston</td>\n",
       "      <td>2018-02-19 12:20:00</td>\n",
       "      <td>2 mins</td>\n",
       "      <td>False</td>\n",
       "      <td>False</td>\n",
       "      <td>1362</td>\n",
       "      <td>2184</td>\n",
       "      <td>118</td>\n",
       "      <td>27437.367363</td>\n",
       "      <td>2283</td>\n",
       "      <td>962</td>\n",
       "    </tr>\n",
       "    <tr>\n",
       "      <th>3</th>\n",
       "      <td>Boston</td>\n",
       "      <td>2018-02-19 15:00:00</td>\n",
       "      <td>5 mins</td>\n",
       "      <td>True</td>\n",
       "      <td>True</td>\n",
       "      <td>1984</td>\n",
       "      <td>3584</td>\n",
       "      <td>355</td>\n",
       "      <td>44995.452993</td>\n",
       "      <td>4035</td>\n",
       "      <td>2021</td>\n",
       "    </tr>\n",
       "    <tr>\n",
       "      <th>4</th>\n",
       "      <td>Boston</td>\n",
       "      <td>2018-02-19 17:40:00</td>\n",
       "      <td>2 mins</td>\n",
       "      <td>False</td>\n",
       "      <td>False</td>\n",
       "      <td>1371</td>\n",
       "      <td>2580</td>\n",
       "      <td>181</td>\n",
       "      <td>27583.955295</td>\n",
       "      <td>2200</td>\n",
       "      <td>979</td>\n",
       "    </tr>\n",
       "    <tr>\n",
       "      <th>...</th>\n",
       "      <td>...</td>\n",
       "      <td>...</td>\n",
       "      <td>...</td>\n",
       "      <td>...</td>\n",
       "      <td>...</td>\n",
       "      <td>...</td>\n",
       "      <td>...</td>\n",
       "      <td>...</td>\n",
       "      <td>...</td>\n",
       "      <td>...</td>\n",
       "      <td>...</td>\n",
       "    </tr>\n",
       "    <tr>\n",
       "      <th>121</th>\n",
       "      <td>Boston</td>\n",
       "      <td>2018-03-04 17:40:00</td>\n",
       "      <td>5 mins</td>\n",
       "      <td>True</td>\n",
       "      <td>False</td>\n",
       "      <td>1718</td>\n",
       "      <td>2655</td>\n",
       "      <td>173</td>\n",
       "      <td>28288.521151</td>\n",
       "      <td>2600</td>\n",
       "      <td>1361</td>\n",
       "    </tr>\n",
       "    <tr>\n",
       "      <th>122</th>\n",
       "      <td>Boston</td>\n",
       "      <td>2018-03-04 20:20:00</td>\n",
       "      <td>2 mins</td>\n",
       "      <td>False</td>\n",
       "      <td>False</td>\n",
       "      <td>1303</td>\n",
       "      <td>2334</td>\n",
       "      <td>158</td>\n",
       "      <td>27072.606354</td>\n",
       "      <td>2164</td>\n",
       "      <td>940</td>\n",
       "    </tr>\n",
       "    <tr>\n",
       "      <th>123</th>\n",
       "      <td>Boston</td>\n",
       "      <td>2018-03-04 23:00:00</td>\n",
       "      <td>5 mins</td>\n",
       "      <td>True</td>\n",
       "      <td>False</td>\n",
       "      <td>1157</td>\n",
       "      <td>2359</td>\n",
       "      <td>154</td>\n",
       "      <td>23525.115952</td>\n",
       "      <td>2323</td>\n",
       "      <td>1473</td>\n",
       "    </tr>\n",
       "    <tr>\n",
       "      <th>124</th>\n",
       "      <td>Boston</td>\n",
       "      <td>2018-03-05 01:40:00</td>\n",
       "      <td>2 mins</td>\n",
       "      <td>False</td>\n",
       "      <td>False</td>\n",
       "      <td>1170</td>\n",
       "      <td>2240</td>\n",
       "      <td>131</td>\n",
       "      <td>23005.270271</td>\n",
       "      <td>2257</td>\n",
       "      <td>900</td>\n",
       "    </tr>\n",
       "    <tr>\n",
       "      <th>125</th>\n",
       "      <td>Boston</td>\n",
       "      <td>2018-03-05 04:20:00</td>\n",
       "      <td>5 mins</td>\n",
       "      <td>True</td>\n",
       "      <td>False</td>\n",
       "      <td>1360</td>\n",
       "      <td>2421</td>\n",
       "      <td>196</td>\n",
       "      <td>26017.526022</td>\n",
       "      <td>2361</td>\n",
       "      <td>1015</td>\n",
       "    </tr>\n",
       "  </tbody>\n",
       "</table>\n",
       "<p>126 rows × 11 columns</p>\n",
       "</div>"
      ],
      "text/plain": [
       "    city_id        period_start wait_time  treat  commute  trips_pool  \\\n",
       "0    Boston 2018-02-19 07:00:00    2 mins  False     True        1415   \n",
       "1    Boston 2018-02-19 09:40:00    5 mins   True    False        1461   \n",
       "2    Boston 2018-02-19 12:20:00    2 mins  False    False        1362   \n",
       "3    Boston 2018-02-19 15:00:00    5 mins   True     True        1984   \n",
       "4    Boston 2018-02-19 17:40:00    2 mins  False    False        1371   \n",
       "..      ...                 ...       ...    ...      ...         ...   \n",
       "121  Boston 2018-03-04 17:40:00    5 mins   True    False        1718   \n",
       "122  Boston 2018-03-04 20:20:00    2 mins  False    False        1303   \n",
       "123  Boston 2018-03-04 23:00:00    5 mins   True    False        1157   \n",
       "124  Boston 2018-03-05 01:40:00    2 mins  False    False        1170   \n",
       "125  Boston 2018-03-05 04:20:00    5 mins   True    False        1360   \n",
       "\n",
       "     trips_express  rider_cancellations  total_driver_payout  total_matches  \\\n",
       "0             3245                  256         34458.411634           3372   \n",
       "1             2363                  203         29764.349821           2288   \n",
       "2             2184                  118         27437.367363           2283   \n",
       "3             3584                  355         44995.452993           4035   \n",
       "4             2580                  181         27583.955295           2200   \n",
       "..             ...                  ...                  ...            ...   \n",
       "121           2655                  173         28288.521151           2600   \n",
       "122           2334                  158         27072.606354           2164   \n",
       "123           2359                  154         23525.115952           2323   \n",
       "124           2240                  131         23005.270271           2257   \n",
       "125           2421                  196         26017.526022           2361   \n",
       "\n",
       "     total_double_matches  \n",
       "0                    1476  \n",
       "1                    1275  \n",
       "2                     962  \n",
       "3                    2021  \n",
       "4                     979  \n",
       "..                    ...  \n",
       "121                  1361  \n",
       "122                   940  \n",
       "123                  1473  \n",
       "124                   900  \n",
       "125                  1015  \n",
       "\n",
       "[126 rows x 11 columns]"
      ]
     },
     "execution_count": 1,
     "metadata": {},
     "output_type": "execute_result"
    }
   ],
   "source": [
    "import pandas as pd\n",
    "from pandas import DataFrame\n",
    "\n",
    "df = pd.read_excel(\"../data/619702-XLS-ENG.xlsx\", \"Switchbacks\")\n",
    "df"
   ]
  },
  {
   "cell_type": "code",
   "execution_count": 2,
   "metadata": {},
   "outputs": [
    {
     "data": {
      "text/plain": [
       "Index(['city_id', 'period_start', 'wait_time', 'treat', 'commute',\n",
       "       'trips_pool', 'trips_express', 'rider_cancellations',\n",
       "       'total_driver_payout', 'total_matches', 'total_double_matches'],\n",
       "      dtype='object')"
      ]
     },
     "execution_count": 2,
     "metadata": {},
     "output_type": "execute_result"
    }
   ],
   "source": [
    "df.columns"
   ]
  },
  {
   "cell_type": "code",
   "execution_count": 3,
   "metadata": {},
   "outputs": [
    {
     "data": {
      "text/html": [
       "<div>\n",
       "<style scoped>\n",
       "    .dataframe tbody tr th:only-of-type {\n",
       "        vertical-align: middle;\n",
       "    }\n",
       "\n",
       "    .dataframe tbody tr th {\n",
       "        vertical-align: top;\n",
       "    }\n",
       "\n",
       "    .dataframe thead th {\n",
       "        text-align: right;\n",
       "    }\n",
       "</style>\n",
       "<table border=\"1\" class=\"dataframe\">\n",
       "  <thead>\n",
       "    <tr style=\"text-align: right;\">\n",
       "      <th></th>\n",
       "      <th>treat</th>\n",
       "      <th>commute</th>\n",
       "      <th>trips_pool</th>\n",
       "      <th>trips_express</th>\n",
       "      <th>rider_cancellations</th>\n",
       "      <th>total_driver_payout</th>\n",
       "      <th>total_matches</th>\n",
       "      <th>total_double_matches</th>\n",
       "    </tr>\n",
       "    <tr>\n",
       "      <th>wait_time</th>\n",
       "      <th></th>\n",
       "      <th></th>\n",
       "      <th></th>\n",
       "      <th></th>\n",
       "      <th></th>\n",
       "      <th></th>\n",
       "      <th></th>\n",
       "      <th></th>\n",
       "    </tr>\n",
       "  </thead>\n",
       "  <tbody>\n",
       "    <tr>\n",
       "      <th>2 mins</th>\n",
       "      <td>0.0</td>\n",
       "      <td>0.15873</td>\n",
       "      <td>1355.317460</td>\n",
       "      <td>2611.666667</td>\n",
       "      <td>165.349206</td>\n",
       "      <td>29291.238922</td>\n",
       "      <td>2633.206349</td>\n",
       "      <td>1287.158730</td>\n",
       "    </tr>\n",
       "    <tr>\n",
       "      <th>5 mins</th>\n",
       "      <td>1.0</td>\n",
       "      <td>0.15873</td>\n",
       "      <td>1460.698413</td>\n",
       "      <td>2419.380952</td>\n",
       "      <td>190.126984</td>\n",
       "      <td>27183.202390</td>\n",
       "      <td>2438.301587</td>\n",
       "      <td>1357.730159</td>\n",
       "    </tr>\n",
       "  </tbody>\n",
       "</table>\n",
       "</div>"
      ],
      "text/plain": [
       "           treat  commute   trips_pool  trips_express  rider_cancellations  \\\n",
       "wait_time                                                                    \n",
       "2 mins       0.0  0.15873  1355.317460    2611.666667           165.349206   \n",
       "5 mins       1.0  0.15873  1460.698413    2419.380952           190.126984   \n",
       "\n",
       "           total_driver_payout  total_matches  total_double_matches  \n",
       "wait_time                                                            \n",
       "2 mins            29291.238922    2633.206349           1287.158730  \n",
       "5 mins            27183.202390    2438.301587           1357.730159  "
      ]
     },
     "execution_count": 3,
     "metadata": {},
     "output_type": "execute_result"
    }
   ],
   "source": [
    "df_groups = df.groupby(\"wait_time\")\n",
    "df_groups.mean()"
   ]
  },
  {
   "cell_type": "code",
   "execution_count": 23,
   "metadata": {},
   "outputs": [
    {
     "data": {
      "text/plain": [
       "[244445, 249920]"
      ]
     },
     "metadata": {},
     "output_type": "display_data"
    },
    {
     "data": {
      "image/png": "[encoded data removed]",
      "text/plain": [
       "<Figure size 432x288 with 1 Axes>"
      ]
     },
     "metadata": {
      "needs_background": "light"
     },
     "output_type": "display_data"
    }
   ],
   "source": [
    "import matplotlib.pyplot as plt\n",
    "\n",
    "two_mins_df = df_groups.get_group(\"2 mins\")\n",
    "five_mins_df = df_groups.get_group(\"5 mins\")\n",
    "fm_total_c_trips = five_mins_df[\"trips_pool\"].sum() + five_mins_df[\"trips_express\"].sum()\n",
    "tm_total_c_trips = two_mins_df[\"trips_pool\"].sum() + two_mins_df[\"trips_express\"].sum()\n",
    "heights = [fm_total_c_trips, tm_total_c_trips]\n",
    "display(heights)\n",
    "plt.bar(height=heights, x=[\"5 mins\", \"2 mins\"])\n",
    "plt.title(\"Total de viajes completados\")\n",
    "plt.show()\n"
   ]
  },
  {
   "cell_type": "code",
   "execution_count": 25,
   "metadata": {},
   "outputs": [
    {
     "data": {
      "text/plain": [
       "[95.32881215803575, 95.99864790636751]"
      ]
     },
     "metadata": {},
     "output_type": "display_data"
    },
    {
     "data": {
      "image/png": "[encoded data removed]",
      "text/plain": [
       "<Figure size 432x288 with 1 Axes>"
      ]
     },
     "metadata": {
      "needs_background": "light"
     },
     "output_type": "display_data"
    }
   ],
   "source": [
    "def get_percentage_completed_trips(df):\n",
    "    completed_trips = df[\"trips_pool\"].sum() + df[\"trips_express\"].sum()\n",
    "    total_trips = completed_trips + df[\"rider_cancellations\"].sum()\n",
    "    return completed_trips*100/total_trips\n",
    "\n",
    "heights = [get_percentage_completed_trips(five_mins_df), get_percentage_completed_trips(two_mins_df)]\n",
    "display(heights)\n",
    "plt.bar(height=heights, x=[\"5 mins\", \"2 mins\"])\n",
    "plt.title(\"Proporcion de viajes correctamente emparejados\")\n",
    "plt.show()\n"
   ]
  },
  {
   "cell_type": "code",
   "execution_count": 6,
   "metadata": {},
   "outputs": [
    {
     "data": {
      "text/plain": [
       "five_mins    1.712542e+06\n",
       "two_mins     1.845348e+06\n",
       "dtype: float64"
      ]
     },
     "metadata": {},
     "output_type": "display_data"
    },
    {
     "data": {
      "image/png": "[encoded data removed]",
      "text/plain": [
       "<Figure size 432x288 with 1 Axes>"
      ]
     },
     "metadata": {
      "needs_background": "light"
     },
     "output_type": "display_data"
    }
   ],
   "source": [
    "frame = {\n",
    "    \"five_mins\": (five_mins_df[\"total_driver_payout\"]).values,\n",
    "    \"two_mins\": (two_mins_df[\"total_driver_payout\"]).values\n",
    "}\n",
    "total_trips = DataFrame(frame).sum()\n",
    "total_trips\n",
    "display(total_trips)\n",
    "fig, ax = plt.subplots()\n",
    "ax.bar(height=total_trips.values/1000000, x=[\"5 mins\", \"2 mins\"])\n",
    "plt.title(\"Total de ganancias de los conductores en millones\")\n",
    "plt.show()"
   ]
  }
 ],
 "metadata": {
  "interpreter": {
   "hash": "2db524e06e9f5f4ffedc911c917cb75e12dbc923643829bf417064a77eb14d37"
  },
  "kernelspec": {
   "display_name": "Python 3.8.3 64-bit",
   "language": "python",
   "name": "python3"
  },
  "language_info": {
   "codemirror_mode": {
    "name": "ipython",
    "version": 3
   },
   "file_extension": ".py",
   "mimetype": "text/x-python",
   "name": "python",
   "nbconvert_exporter": "python",
   "pygments_lexer": "ipython3",
   "version": "3.8.3"
  },
  "orig_nbformat": 4
 },
 "nbformat": 4,
 "nbformat_minor": 2
}
