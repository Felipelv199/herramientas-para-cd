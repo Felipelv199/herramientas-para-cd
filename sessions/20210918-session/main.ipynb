{
 "cells": [
  {
   "cell_type": "code",
   "execution_count": 3,
   "source": [
    "from random import randint, choice\r\n",
    "\r\n",
    "frutas = [\"manzana\", \"pera\", \"limon\", \"sandia\", \"platano\", \"cereza\"]\r\n",
    "personas = [\"Ana\", \"Beto\", \"Daniela\", \"Carlos\", \"Emmanuel\", \"Felipe\", \"Gloria\"]\r\n",
    "\r\n",
    "print(choice(frutas))"
   ],
   "outputs": [
    {
     "output_type": "stream",
     "name": "stdout",
     "text": [
      "pera\n"
     ]
    }
   ],
   "metadata": {}
  },
  {
   "cell_type": "code",
   "execution_count": 4,
   "source": [
    "db = [(nombre, choice(frutas), randint(1,1000), randint(1,1000), randint(1,1000))for nombre in personas]"
   ],
   "outputs": [
    {
     "output_type": "stream",
     "name": "stdout",
     "text": [
      "[('Ana', 'limon', 718, 354, 115), ('Beto', 'pera', 410, 264, 669), ('Daniela', 'pera', 413, 853, 102), ('Carlos', 'pera', 987, 880, 3), ('Emmanuel', 'sandia', 782, 67, 572), ('Felipe', 'sandia', 715, 880, 854), ('Gloria', 'manzana', 966, 177, 256)]\n"
     ]
    }
   ],
   "metadata": {}
  },
  {
   "cell_type": "code",
   "execution_count": 5,
   "source": [
    "categorias = [\"nombre\", \"fruta\", \"R1\", \"R2\", \"R3\"]"
   ],
   "outputs": [
    {
     "output_type": "stream",
     "name": "stdout",
     "text": [
      "['nombre', 'fruta', 'R1', 'R2', 'R3']\n"
     ]
    }
   ],
   "metadata": {}
  },
  {
   "cell_type": "code",
   "execution_count": 6,
   "source": [
    "from dataclasses import dataclass\r\n",
    "\r\n",
    "@dataclass\r\n",
    "class Element:\r\n",
    "    nombre: str\r\n",
    "    fruta: str\r\n",
    "    R1: int\r\n",
    "    R2: int\r\n",
    "    R3: int\r\n",
    "\r\n",
    "# Spread operator in python \" * \"\r\n",
    "datos = [Element(*row) for row in db]"
   ],
   "outputs": [
    {
     "output_type": "stream",
     "name": "stdout",
     "text": [
      "[Element(nombre='Ana', fruta='limon', R1=718, R2=354, R3=115), Element(nombre='Beto', fruta='pera', R1=410, R2=264, R3=669), Element(nombre='Daniela', fruta='pera', R1=413, R2=853, R3=102), Element(nombre='Carlos', fruta='pera', R1=987, R2=880, R3=3), Element(nombre='Emmanuel', fruta='sandia', R1=782, R2=67, R3=572), Element(nombre='Felipe', fruta='sandia', R1=715, R2=880, R3=854), Element(nombre='Gloria', fruta='manzana', R1=966, R2=177, R3=256)]\n"
     ]
    }
   ],
   "metadata": {}
  },
  {
   "cell_type": "code",
   "execution_count": 11,
   "source": [
    "def orden(lista):\r\n",
    "    return lista[2]\r\n",
    "\r\n",
    "sorted(db, key=orden)"
   ],
   "outputs": [
    {
     "output_type": "execute_result",
     "data": {
      "text/plain": [
       "[('Beto', 'pera', 410, 264, 669),\n",
       " ('Daniela', 'pera', 413, 853, 102),\n",
       " ('Felipe', 'sandia', 715, 880, 854),\n",
       " ('Ana', 'limon', 718, 354, 115),\n",
       " ('Emmanuel', 'sandia', 782, 67, 572),\n",
       " ('Gloria', 'manzana', 966, 177, 256),\n",
       " ('Carlos', 'pera', 987, 880, 3)]"
      ]
     },
     "metadata": {},
     "execution_count": 11
    }
   ],
   "metadata": {}
  },
  {
   "cell_type": "code",
   "execution_count": 10,
   "source": [
    "sorted(datos, key=lambda x: x.R1)"
   ],
   "outputs": [
    {
     "output_type": "execute_result",
     "data": {
      "text/plain": [
       "[Element(nombre='Beto', fruta='pera', R1=410, R2=264, R3=669),\n",
       " Element(nombre='Daniela', fruta='pera', R1=413, R2=853, R3=102),\n",
       " Element(nombre='Felipe', fruta='sandia', R1=715, R2=880, R3=854),\n",
       " Element(nombre='Ana', fruta='limon', R1=718, R2=354, R3=115),\n",
       " Element(nombre='Emmanuel', fruta='sandia', R1=782, R2=67, R3=572),\n",
       " Element(nombre='Gloria', fruta='manzana', R1=966, R2=177, R3=256),\n",
       " Element(nombre='Carlos', fruta='pera', R1=987, R2=880, R3=3)]"
      ]
     },
     "metadata": {},
     "execution_count": 10
    }
   ],
   "metadata": {}
  },
  {
   "cell_type": "code",
   "execution_count": 13,
   "source": [
    "sorted(datos, key=lambda x: (x.fruta, x.R1))"
   ],
   "outputs": [
    {
     "output_type": "execute_result",
     "data": {
      "text/plain": [
       "[Element(nombre='Ana', fruta='limon', R1=718, R2=354, R3=115),\n",
       " Element(nombre='Gloria', fruta='manzana', R1=966, R2=177, R3=256),\n",
       " Element(nombre='Beto', fruta='pera', R1=410, R2=264, R3=669),\n",
       " Element(nombre='Daniela', fruta='pera', R1=413, R2=853, R3=102),\n",
       " Element(nombre='Carlos', fruta='pera', R1=987, R2=880, R3=3),\n",
       " Element(nombre='Felipe', fruta='sandia', R1=715, R2=880, R3=854),\n",
       " Element(nombre='Emmanuel', fruta='sandia', R1=782, R2=67, R3=572)]"
      ]
     },
     "metadata": {},
     "execution_count": 13
    }
   ],
   "metadata": {}
  },
  {
   "cell_type": "code",
   "execution_count": 14,
   "source": [
    "sorted(datos, key=lambda x: x.R1+x.R2+x.R3)\r\n"
   ],
   "outputs": [
    {
     "output_type": "execute_result",
     "data": {
      "text/plain": [
       "[Element(nombre='Ana', fruta='limon', R1=718, R2=354, R3=115),\n",
       " Element(nombre='Beto', fruta='pera', R1=410, R2=264, R3=669),\n",
       " Element(nombre='Daniela', fruta='pera', R1=413, R2=853, R3=102),\n",
       " Element(nombre='Gloria', fruta='manzana', R1=966, R2=177, R3=256),\n",
       " Element(nombre='Emmanuel', fruta='sandia', R1=782, R2=67, R3=572),\n",
       " Element(nombre='Carlos', fruta='pera', R1=987, R2=880, R3=3),\n",
       " Element(nombre='Felipe', fruta='sandia', R1=715, R2=880, R3=854)]"
      ]
     },
     "metadata": {},
     "execution_count": 14
    }
   ],
   "metadata": {}
  }
 ],
 "metadata": {
  "orig_nbformat": 4,
  "language_info": {
   "name": "python",
   "version": "3.8.3",
   "mimetype": "text/x-python",
   "codemirror_mode": {
    "name": "ipython",
    "version": 3
   },
   "pygments_lexer": "ipython3",
   "nbconvert_exporter": "python",
   "file_extension": ".py"
  },
  "kernelspec": {
   "name": "python3",
   "display_name": "Python 3.8.3 64-bit"
  },
  "interpreter": {
   "hash": "2db524e06e9f5f4ffedc911c917cb75e12dbc923643829bf417064a77eb14d37"
  }
 },
 "nbformat": 4,
 "nbformat_minor": 2
}