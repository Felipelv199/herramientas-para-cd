{
  "cells": [
    {
      "cell_type": "code",
      "execution_count": 1,
      "metadata": {
        "id": "0trVEGp6FttG"
      },
      "outputs": [],
      "source": [
        "import numpy as np\n",
        "import pandas as pd\n",
        "from pandas import Series\n",
        "\n",
        "def encabezado(titulo):\n",
        "  print()\n",
        "  print(\"-\" * 50)\n",
        "  print(\"[\" + titulo + \"]\")\n",
        "  print(\"-\" * 50)\n"
      ]
    },
    {
      "cell_type": "markdown",
      "metadata": {
        "id": "NyGKK3rc974Z"
      },
      "source": [
        "# pandas: librería para trabajar con datos\n",
        "- Procesado  \n",
        "- Extracción  \n",
        "- Manipulación\n",
        "\n",
        "### Dependencias de librerías de análisis de datos\n",
        "\n",
        "![dependencias](https://raw.githubusercontent.com/DRMiguelAR/Herramientas_Analisis/master/imagenes/dependencias_pandas.png)\n",
        "\n",
        "## Diferencias entre Pandas y Numpy  \n",
        "\n",
        "---  \n",
        "### NumPy  \n",
        "* Estructuras de datos de bajo nivel\n",
        "* Arreglos multidimensionales \n",
        "* Operaciones matemáticas avanzadas sobre arreglos \n",
        "---\n",
        "### Pandas\n",
        "* Estructuras de datos de alto nivel \n",
        "* Datos tabulares\n",
        "* Alineación de datos\n",
        "* Puede trabajar aunque haya datos faltantes\n",
        "* Hay operaciones de bases de datos como *group*, *merge* y *join*\n",
        "* Se pueden utilizar operaciones de NumPy o de SciPy sobre las estructuras de Pandas\n",
        "---  \n",
        "##### Existen dos estructuras de datos principales en pandas: las Series y los Dataframes  \n",
        "---\n"
      ]
    },
    {
      "cell_type": "markdown",
      "metadata": {
        "id": "F5RgouyhF2uT"
      },
      "source": [
        "# Series\n",
        "Estructura de datos en la que asignará a cada elemento de un arreglo lineal un índice.\n",
        "\n",
        "## Generación de Series"
      ]
    },
    {
      "cell_type": "code",
      "execution_count": 2,
      "metadata": {
        "colab": {
          "base_uri": "https://localhost:8080/"
        },
        "id": "pkcQRX6jMQD-",
        "outputId": "71dc731b-ea07-4d91-fb94-da0d41bdd7c4"
      },
      "outputs": [
        {
          "name": "stdout",
          "output_type": "stream",
          "text": [
            "\n",
            "--------------------------------------------------\n",
            "[Serie 1]\n",
            "--------------------------------------------------\n"
          ]
        },
        {
          "data": {
            "text/plain": [
              "0    4\n",
              "1    7\n",
              "2   -5\n",
              "3    3\n",
              "dtype: int32"
            ]
          },
          "execution_count": 2,
          "metadata": {},
          "output_type": "execute_result"
        }
      ],
      "source": [
        "# Crea una Serie de 4 números a partir de un arreglo de numpy e imprímela\n",
        "datos= np.array([4,7,-5,3])\n",
        "s1= Series(datos)\n",
        "encabezado(\"Serie 1\")\n",
        "s1"
      ]
    },
    {
      "cell_type": "markdown",
      "metadata": {
        "id": "MeyvzD04X8Yo"
      },
      "source": [
        "Ten en cuenta que los valores de la lista se pasan por referencia,   \n",
        "esto es, si modificas la lista se modifica la serie."
      ]
    },
    {
      "cell_type": "code",
      "execution_count": 3,
      "metadata": {
        "colab": {
          "base_uri": "https://localhost:8080/"
        },
        "id": "4XJ12shIX8tu",
        "outputId": "ed26c2cc-9250-4302-9717-ff935adc33d0"
      },
      "outputs": [
        {
          "name": "stdout",
          "output_type": "stream",
          "text": [
            "\n",
            "--------------------------------------------------\n",
            "[Serie 1]\n",
            "--------------------------------------------------\n"
          ]
        },
        {
          "data": {
            "text/plain": [
              "0    100\n",
              "1      7\n",
              "2     -5\n",
              "3      3\n",
              "dtype: int32"
            ]
          },
          "execution_count": 3,
          "metadata": {},
          "output_type": "execute_result"
        }
      ],
      "source": [
        "# Modifica el valor del dato 0\n",
        "datos[0]= 100\n",
        "encabezado(\"Serie 1\")\n",
        "s1"
      ]
    },
    {
      "cell_type": "markdown",
      "metadata": {
        "id": "QoQZFMChMoHA"
      },
      "source": [
        "Por default se asigna un índice numérico entero comenzando en 0.  \n",
        "Una serie está conformada por una lista de valores y una lista de índices.\n",
        "\n"
      ]
    },
    {
      "cell_type": "code",
      "execution_count": 4,
      "metadata": {
        "colab": {
          "base_uri": "https://localhost:8080/",
          "height": 189
        },
        "id": "UuAcUkA6MVM7",
        "outputId": "66ada637-2dff-46ef-a4b8-119be13b0503"
      },
      "outputs": [
        {
          "name": "stdout",
          "output_type": "stream",
          "text": [
            "\n",
            "--------------------------------------------------\n",
            "[Valores]\n",
            "--------------------------------------------------\n"
          ]
        },
        {
          "data": {
            "text/plain": [
              "array([100,   7,  -5,   3])"
            ]
          },
          "metadata": {},
          "output_type": "display_data"
        },
        {
          "name": "stdout",
          "output_type": "stream",
          "text": [
            "\n",
            "--------------------------------------------------\n",
            "[Índices]\n",
            "--------------------------------------------------\n"
          ]
        },
        {
          "data": {
            "text/plain": [
              "[0, 1, 2, 3]"
            ]
          },
          "metadata": {},
          "output_type": "display_data"
        }
      ],
      "source": [
        "# De la Serie definida en el punto anterior, enlista los valores y \n",
        "# los índices por separado\n",
        "encabezado(\"Valores\")\n",
        "display(s1.values)\n",
        "encabezado(\"Índices\")\n",
        "display( list(s1.index) )"
      ]
    },
    {
      "cell_type": "markdown",
      "metadata": {
        "id": "bwOj9X97NGkE"
      },
      "source": [
        "Podemos instanciar una serie agregando un índice personalizado,  \n",
        "que puede agregar más significado"
      ]
    },
    {
      "cell_type": "code",
      "execution_count": 5,
      "metadata": {
        "colab": {
          "base_uri": "https://localhost:8080/"
        },
        "id": "W0dx56wfM48J",
        "outputId": "6ef4e572-5266-4c72-d456-74ece13f9496"
      },
      "outputs": [
        {
          "name": "stdout",
          "output_type": "stream",
          "text": [
            "\n",
            "--------------------------------------------------\n",
            "[Serie 2]\n",
            "--------------------------------------------------\n"
          ]
        },
        {
          "data": {
            "text/plain": [
              "m    100\n",
              "a      7\n",
              "r     -5\n",
              "x      3\n",
              "dtype: int32"
            ]
          },
          "execution_count": 5,
          "metadata": {},
          "output_type": "execute_result"
        }
      ],
      "source": [
        "# Crea dos listas, una de datos y otra de índices,\n",
        "# donde por lo menos unos de los índices sean las \n",
        "# letras a, r, m\n",
        "# Genera una serie en donde la segunda lista sea\n",
        "# el índice\n",
        "indices= [\"m\", \"a\", \"r\", \"x\"]\n",
        "s2= Series(datos, index= indices)\n",
        "encabezado(\"Serie 2\")\n",
        "s2"
      ]
    },
    {
      "cell_type": "markdown",
      "metadata": {
        "id": "INpQclQkNeVH"
      },
      "source": [
        "## Obtención de los elementos de una serie\n",
        "Podemos consultar la serie utilizando los índices, como si\n",
        "fueran diccionarios o arreglos de Python"
      ]
    },
    {
      "cell_type": "code",
      "execution_count": 27,
      "metadata": {
        "id": "rcluIAbHNdZ6"
      },
      "outputs": [
        {
          "data": {
            "text/plain": [
              "7"
            ]
          },
          "execution_count": 27,
          "metadata": {},
          "output_type": "execute_result"
        }
      ],
      "source": [
        "# Obtén el valor del índice a dentro de la serie anterior\n",
        "s2[\"a\"]\n"
      ]
    },
    {
      "cell_type": "markdown",
      "metadata": {
        "id": "RoLZ9S5_LEhR"
      },
      "source": [
        "También lo podemos consultar como arreglo de numpy"
      ]
    },
    {
      "cell_type": "code",
      "execution_count": 28,
      "metadata": {
        "id": "DdmqfFAFLEx4"
      },
      "outputs": [
        {
          "data": {
            "text/plain": [
              "m    100\n",
              "a      7\n",
              "dtype: int32"
            ]
          },
          "execution_count": 28,
          "metadata": {},
          "output_type": "execute_result"
        }
      ],
      "source": [
        "# Obtén el valor de los índices 0 al 2\n",
        "s2[0:2]\n"
      ]
    },
    {
      "cell_type": "markdown",
      "metadata": {
        "id": "OQq6o4XLNugy"
      },
      "source": [
        "Además, se pueden filtrar los datos pasando como búsqueda una lista de índices"
      ]
    },
    {
      "cell_type": "code",
      "execution_count": 34,
      "metadata": {
        "id": "D0KqlxEPNUhv"
      },
      "outputs": [
        {
          "data": {
            "text/plain": [
              "a      7\n",
              "r     -5\n",
              "m    100\n",
              "dtype: int32"
            ]
          },
          "execution_count": 34,
          "metadata": {},
          "output_type": "execute_result"
        }
      ],
      "source": [
        "# A partir de la anterior serie, obtén una serie con los \n",
        "# índices a, r, m\n",
        "# s2[[\"a\",\"r\",\"m\"]]\n",
        "# s2[range(0,2)]\n",
        "# s2[[False, False, True, True]]\n",
        "s2[list(\"arm\")]"
      ]
    },
    {
      "cell_type": "markdown",
      "metadata": {
        "id": "VkIPOHv6TS-8"
      },
      "source": [
        "## Asignación de valores a los elementos\n",
        "Una Serie es modificable, lo que significa que puedo cambiar los valores de  \n",
        "sus datos"
      ]
    },
    {
      "cell_type": "code",
      "execution_count": 9,
      "metadata": {
        "id": "CCNXURvTT4vK"
      },
      "outputs": [
        {
          "name": "stdout",
          "output_type": "stream",
          "text": [
            "\n",
            "--------------------------------------------------\n",
            "[Serie 3]\n",
            "--------------------------------------------------\n"
          ]
        },
        {
          "data": {
            "text/plain": [
              "a    0\n",
              "b   -3\n",
              "c    0\n",
              "d    1\n",
              "e   -2\n",
              "f    2\n",
              "g   -3\n",
              "h   -2\n",
              "i    2\n",
              "j   -3\n",
              "dtype: int32"
            ]
          },
          "execution_count": 9,
          "metadata": {},
          "output_type": "execute_result"
        }
      ],
      "source": [
        "np.random.seed(1000)\n",
        "valores= np.random.randint(-3,3,10)\n",
        "indices= list(\"abcdefghij\")\n",
        "s3= Series(valores, index= indices)\n",
        "encabezado(\"Serie 3\")\n",
        "s3"
      ]
    },
    {
      "cell_type": "code",
      "execution_count": 35,
      "metadata": {
        "id": "DgCJ_y_xXKtH"
      },
      "outputs": [
        {
          "name": "stdout",
          "output_type": "stream",
          "text": [
            "\n",
            "--------------------------------------------------\n",
            "[Serie 3]\n",
            "--------------------------------------------------\n"
          ]
        },
        {
          "data": {
            "text/plain": [
              "a    -3\n",
              "b   -10\n",
              "c     0\n",
              "d     1\n",
              "e    -2\n",
              "f     2\n",
              "g    -3\n",
              "h    -2\n",
              "i     2\n",
              "j    -3\n",
              "dtype: int32"
            ]
          },
          "execution_count": 35,
          "metadata": {},
          "output_type": "execute_result"
        }
      ],
      "source": [
        "# Cambia el valor del índice \"b\" a -10\n",
        "# Cambia el primer valor a -3\n",
        "s3[\"b\"]=-10\n",
        "s3[0]=-3\n",
        "encabezado(\"Serie 3\")\n",
        "s3"
      ]
    },
    {
      "cell_type": "markdown",
      "metadata": {
        "id": "JitPhG13aNx1"
      },
      "source": [
        "## Operaciones matemáticas sobre series\n",
        "Al estar basada en numpy, pandas permite realizar operaciones matemáticas sobre las series."
      ]
    },
    {
      "cell_type": "code",
      "execution_count": 37,
      "metadata": {
        "id": "6D4iBaCPN3_O"
      },
      "outputs": [
        {
          "name": "stdout",
          "output_type": "stream",
          "text": [
            "\n",
            "--------------------------------------------------\n",
            "[Doble de Serie 3]\n",
            "--------------------------------------------------\n"
          ]
        },
        {
          "data": {
            "text/plain": [
              "a    -6\n",
              "b   -20\n",
              "c     0\n",
              "d     2\n",
              "e    -4\n",
              "f     4\n",
              "g    -6\n",
              "h    -4\n",
              "i     4\n",
              "j    -6\n",
              "dtype: int32"
            ]
          },
          "execution_count": 37,
          "metadata": {},
          "output_type": "execute_result"
        }
      ],
      "source": [
        "# Multiplica la serie anterior por dos\n",
        "encabezado(\"Doble de Serie 3\")\n",
        "s3*2\n"
      ]
    },
    {
      "cell_type": "code",
      "execution_count": 49,
      "metadata": {
        "id": "zZLqLAnmOA5F"
      },
      "outputs": [
        {
          "data": {
            "text/plain": [
              "[<matplotlib.lines.Line2D at 0x2e1c87d9880>]"
            ]
          },
          "execution_count": 49,
          "metadata": {},
          "output_type": "execute_result"
        },
        {
          "data": {
            "image/png": "[encoded data removed]",
            "text/plain": [
              "<Figure size 432x288 with 1 Axes>"
            ]
          },
          "metadata": {
            "needs_background": "light"
          },
          "output_type": "display_data"
        }
      ],
      "source": [
        "# Genera una serie con once valores entre cero y 2pi\n",
        "# Genera una nueva serie con los valores del seno de la serie anterior\n",
        "# Grafica\n",
        "import matplotlib.pyplot as plt\n",
        "\n",
        "n=20\n",
        "valores=np.sin(np.linspace(0,2*np.pi, n+1))\n",
        "indices=[r\"$\\frac{\"+str(i)+r\"\\pi}{20}$\" for i in range(n+1)]\n",
        "s4=Series(valores, index=indices)\n",
        "plt.plot(s4)"
      ]
    },
    {
      "cell_type": "markdown",
      "metadata": {
        "id": "_SoXv1-dWXMC"
      },
      "source": [
        "### Filtros estilo numpy\n",
        "Se puede utilizar un filtro donde se aplique la misma serie."
      ]
    },
    {
      "cell_type": "code",
      "execution_count": 51,
      "metadata": {
        "id": "p-3E6C39OF5F"
      },
      "outputs": [
        {
          "data": {
            "text/plain": [
              "a    False\n",
              "b    False\n",
              "c    False\n",
              "d     True\n",
              "e    False\n",
              "f     True\n",
              "g    False\n",
              "h    False\n",
              "i     True\n",
              "j    False\n",
              "dtype: bool"
            ]
          },
          "metadata": {},
          "output_type": "display_data"
        },
        {
          "data": {
            "text/plain": [
              "d    1\n",
              "f    2\n",
              "i    2\n",
              "dtype: int32"
            ]
          },
          "execution_count": 51,
          "metadata": {},
          "output_type": "execute_result"
        }
      ],
      "source": [
        "# Filtra de la serie 3, los valores mayores a 0\n",
        "display(s3>0)\n",
        "s3[s3>0]"
      ]
    },
    {
      "cell_type": "markdown",
      "metadata": {
        "id": "Ksws8LKIOUGf"
      },
      "source": [
        "Se puede considerar una serie de pandas como un diccionario de python, por lo \n",
        "que acepta los mismos operadores.  \n",
        "Estos operadores trabajan sobre los índices."
      ]
    },
    {
      "cell_type": "code",
      "execution_count": 55,
      "metadata": {
        "id": "sbsi3RKjON57"
      },
      "outputs": [
        {
          "data": {
            "text/plain": [
              "a    -3\n",
              "b   -10\n",
              "c     0\n",
              "d     1\n",
              "e    -2\n",
              "f     2\n",
              "g    -3\n",
              "h    -2\n",
              "i     2\n",
              "j    -3\n",
              "dtype: int32"
            ]
          },
          "metadata": {},
          "output_type": "display_data"
        },
        {
          "data": {
            "text/plain": [
              "False"
            ]
          },
          "metadata": {},
          "output_type": "display_data"
        },
        {
          "data": {
            "text/plain": [
              "True"
            ]
          },
          "metadata": {},
          "output_type": "display_data"
        },
        {
          "data": {
            "text/plain": [
              "False"
            ]
          },
          "metadata": {},
          "output_type": "display_data"
        }
      ],
      "source": [
        "# Revisa si la x es parte de los índices serie 3\n",
        "# Revisa si la g es parte de los índices serie 3\n",
        "display(s3)\n",
        "display(\"x\" in s3)\n",
        "display(\"g\" in s3)"
      ]
    },
    {
      "cell_type": "code",
      "execution_count": 56,
      "metadata": {
        "id": "UNYKfeN8OakO"
      },
      "outputs": [
        {
          "data": {
            "text/plain": [
              "False"
            ]
          },
          "execution_count": 56,
          "metadata": {},
          "output_type": "execute_result"
        }
      ],
      "source": [
        "# Revisa si el 2 es parte de los índices de la serie 3\n",
        "2 in s3\n"
      ]
    },
    {
      "cell_type": "code",
      "execution_count": 16,
      "metadata": {
        "id": "Crl9y9JZOb0h"
      },
      "outputs": [
        {
          "data": {
            "text/plain": [
              "{'Jalisco': 8348,\n",
              " 'Colima': 731,\n",
              " 'Aguascalientes': 1425,\n",
              " 'Michoacán': 4748,\n",
              " 'Zacatecas': 1622,\n",
              " 'Nayarit': 1235}"
            ]
          },
          "metadata": {},
          "output_type": "display_data"
        }
      ],
      "source": [
        "d = {\"Jalisco\": 8348, \"Colima\":731, \"Aguascalientes\":1425, \"Michoacán\":4748, \"Zacatecas\":1622, \"Nayarit\":1235}\n",
        "display(d)\n",
        "# Genera una serie a partir del siguiente diccionario\n",
        "# Población en miles de estados colindantes a Jalisco (2020)\n"
      ]
    },
    {
      "cell_type": "code",
      "execution_count": 60,
      "metadata": {
        "id": "jaSrAAL9O9W7"
      },
      "outputs": [
        {
          "name": "stdout",
          "output_type": "stream",
          "text": [
            "\n",
            "--------------------------------------------------\n",
            "[Serie 6]\n",
            "--------------------------------------------------\n"
          ]
        },
        {
          "data": {
            "text/plain": [
              "Jalisco           8348\n",
              "Colima             731\n",
              "Aguascalientes    1425\n",
              "Michoacán         4748\n",
              "Zacatecas         1622\n",
              "Nayarit           1235\n",
              "dtype: int64"
            ]
          },
          "metadata": {},
          "output_type": "display_data"
        },
        {
          "name": "stdout",
          "output_type": "stream",
          "text": [
            "\n",
            "--------------------------------------------------\n",
            "[Serie 7]\n",
            "--------------------------------------------------\n"
          ]
        },
        {
          "data": {
            "text/plain": [
              "Jalisco       8348.0\n",
              "Colima         731.0\n",
              "Michoacán     4748.0\n",
              "Zacatecas     1622.0\n",
              "Nayarit       1235.0\n",
              "Sinaloa          NaN\n",
              "Tamaulipas       NaN\n",
              "dtype: float64"
            ]
          },
          "execution_count": 60,
          "metadata": {},
          "output_type": "execute_result"
        }
      ],
      "source": [
        "# Al utilizar un diccionario para generar una serie, \n",
        "# se puede especificar cuáles son los índices que se deben utilizar\n",
        "s6 = Series(d)\n",
        "encabezado(\"Serie 6\")\n",
        "display(s6)\n",
        "\n",
        "indices = [\"Jalisco\",\"Colima\",\"Michoacán\",\"Zacatecas\",\"Nayarit\",\"Sinaloa\", \"Tamaulipas\"]\n",
        "s7=Series(d,index=indices)\n",
        "encabezado(\"Serie 7\")\n",
        "s7"
      ]
    },
    {
      "cell_type": "markdown",
      "metadata": {
        "id": "vBjZwo94PtBU"
      },
      "source": [
        "## Validación de los valores\n",
        "Si algún dato de nuestra serie es nulo, podemos detectar datos inválidos con las funciones __isnull__ o __notnull__"
      ]
    },
    {
      "cell_type": "code",
      "execution_count": 61,
      "metadata": {
        "id": "u8F79nzEPcY8"
      },
      "outputs": [
        {
          "data": {
            "text/plain": [
              "Jalisco       False\n",
              "Colima        False\n",
              "Michoacán     False\n",
              "Zacatecas     False\n",
              "Nayarit       False\n",
              "Sinaloa        True\n",
              "Tamaulipas     True\n",
              "dtype: bool"
            ]
          },
          "execution_count": 61,
          "metadata": {},
          "output_type": "execute_result"
        }
      ],
      "source": [
        "# Muestra cuáles de los elementos de la serie anterior son nulos\n",
        "encabezado(\"Cuales son nulos\")\n",
        "s7.isnull()"
      ]
    },
    {
      "cell_type": "code",
      "execution_count": 62,
      "metadata": {
        "id": "Q20Ofv1WP02N"
      },
      "outputs": [
        {
          "name": "stdout",
          "output_type": "stream",
          "text": [
            "\n",
            "--------------------------------------------------\n",
            "[Cuales no son nulos]\n",
            "--------------------------------------------------\n"
          ]
        },
        {
          "data": {
            "text/plain": [
              "Jalisco        True\n",
              "Colima         True\n",
              "Michoacán      True\n",
              "Zacatecas      True\n",
              "Nayarit        True\n",
              "Sinaloa       False\n",
              "Tamaulipas    False\n",
              "dtype: bool"
            ]
          },
          "execution_count": 62,
          "metadata": {},
          "output_type": "execute_result"
        }
      ],
      "source": [
        "# Muestra cuáles de los elementos de la serie anterior no son nulos\n",
        "encabezado(\"Cuales no son nulos\")\n",
        "s7.notnull()"
      ]
    },
    {
      "cell_type": "code",
      "execution_count": 63,
      "metadata": {
        "id": "NCzk0bt7P7Ed"
      },
      "outputs": [
        {
          "data": {
            "text/plain": [
              "Jalisco      8348.0\n",
              "Colima        731.0\n",
              "Michoacán    4748.0\n",
              "Zacatecas    1622.0\n",
              "Nayarit      1235.0\n",
              "dtype: float64"
            ]
          },
          "execution_count": 63,
          "metadata": {},
          "output_type": "execute_result"
        }
      ],
      "source": [
        "# Filtra los elementos nulos de la serie anterior con un filtro tipo numpy\n",
        "s7[s7.notnull()]"
      ]
    },
    {
      "cell_type": "markdown",
      "metadata": {
        "id": "Vt1DzxoqcvSW"
      },
      "source": [
        "También podemos revisar qué valores hay en la serie con las funciones:  \n",
        "- __isin__: revisa para cada valor si pertenece a una estructura\n",
        "- __unique__: regresa todos los valores que pertenecen a la serie, sin repetidos\n",
        "- __value_counts__: regresa todos los valores que pertenecen a la serie, y cuántas veces aparecen"
      ]
    },
    {
      "cell_type": "code",
      "execution_count": 66,
      "metadata": {
        "id": "X-VOtmTddQ84"
      },
      "outputs": [
        {
          "data": {
            "text/plain": [
              "a   -3\n",
              "c    0\n",
              "g   -3\n",
              "j   -3\n",
              "dtype: int32"
            ]
          },
          "execution_count": 66,
          "metadata": {},
          "output_type": "execute_result"
        }
      ],
      "source": [
        "# utiliza isin para mostrar qué valores están entre -3 y 0\n",
        "filt = s3.isin([-3, 0])\n",
        "s3[filt]"
      ]
    },
    {
      "cell_type": "code",
      "execution_count": 67,
      "metadata": {
        "id": "YbYtWM-Yd4Kd"
      },
      "outputs": [
        {
          "data": {
            "text/plain": [
              "array([ -3, -10,   0,   1,  -2,   2])"
            ]
          },
          "execution_count": 67,
          "metadata": {},
          "output_type": "execute_result"
        }
      ],
      "source": [
        "# utiliza unique sobre s3\n",
        "s3.unique()"
      ]
    },
    {
      "cell_type": "markdown",
      "metadata": {
        "id": "yBl29_vCQQX5"
      },
      "source": [
        "Se pueden aplicar operaciones automáticamente sobre dos series alineando los datos utilizando el índice"
      ]
    },
    {
      "cell_type": "code",
      "execution_count": 69,
      "metadata": {
        "id": "0v_odtAHd8of"
      },
      "outputs": [
        {
          "data": {
            "text/plain": [
              "-3      True\n",
              " 2     False\n",
              "-2     False\n",
              " 0     False\n",
              " 1     False\n",
              "-10    False\n",
              "dtype: bool"
            ]
          },
          "execution_count": 69,
          "metadata": {},
          "output_type": "execute_result"
        }
      ],
      "source": [
        "# utiliza value_counts sobre s3\n",
        "s3.value_counts()>=2\n"
      ]
    },
    {
      "cell_type": "code",
      "execution_count": 72,
      "metadata": {},
      "outputs": [
        {
          "data": {
            "text/plain": [
              "-3    3\n",
              " 2    2\n",
              "-2    2\n",
              "dtype: int64"
            ]
          },
          "metadata": {},
          "output_type": "display_data"
        },
        {
          "data": {
            "text/plain": [
              "a    False\n",
              "b    False\n",
              "c    False\n",
              "d    False\n",
              "e    False\n",
              "f     True\n",
              "g    False\n",
              "h    False\n",
              "i     True\n",
              "j    False\n",
              "dtype: bool"
            ]
          },
          "metadata": {},
          "output_type": "display_data"
        },
        {
          "data": {
            "text/plain": [
              "f    2\n",
              "i    2\n",
              "dtype: int32"
            ]
          },
          "execution_count": 72,
          "metadata": {},
          "output_type": "execute_result"
        }
      ],
      "source": [
        "## Filtra de s3 sólo los valores que aparecen 2 o más veces\n",
        "\n",
        "filtro = s3.value_counts()[s3.value_counts() >= 2]\n",
        "display(filtro)\n",
        "display(s3.isin(filtro))\n",
        "s3[s3.isin(filtro)]\n"
      ]
    },
    {
      "cell_type": "markdown",
      "metadata": {
        "id": "8N8P5e_ueI3E"
      },
      "source": [
        "## Operaciones entre Series\n",
        "Se pueden realizar operaciones aritméticas entre series.\n",
        "Al hacerlo, se utilizarán las etiquetas para alinear los datos."
      ]
    },
    {
      "cell_type": "code",
      "execution_count": 74,
      "metadata": {
        "id": "ZtxLWv6JQBPK"
      },
      "outputs": [
        {
          "name": "stdout",
          "output_type": "stream",
          "text": [
            "\n",
            "--------------------------------------------------\n",
            "[Serie 8]\n",
            "--------------------------------------------------\n"
          ]
        },
        {
          "data": {
            "text/plain": [
              "a    5\n",
              "u    1\n",
              "r    1\n",
              "j    1\n",
              "g    1\n",
              "d    1\n",
              "l    1\n",
              "dtype: int64"
            ]
          },
          "metadata": {},
          "output_type": "display_data"
        },
        {
          "name": "stdout",
          "output_type": "stream",
          "text": [
            "\n",
            "--------------------------------------------------\n",
            "[Serie 9]\n",
            "--------------------------------------------------\n"
          ]
        },
        {
          "data": {
            "text/plain": [
              "a    3\n",
              "e    1\n",
              "t    1\n",
              "u    1\n",
              "m    1\n",
              "g    1\n",
              "l    1\n",
              "dtype: int64"
            ]
          },
          "metadata": {},
          "output_type": "display_data"
        }
      ],
      "source": [
        "# Genera serie 8 y serie 9 con etiquetas en común\n",
        "s8 = Series(list(\"guadalajara\")).value_counts()\n",
        "s9 = Series(list(\"guatemala\")).value_counts()\n",
        "encabezado(\"Serie 8\")\n",
        "display(s8)\n",
        "encabezado(\"Serie 9\")\n",
        "display(s9)"
      ]
    },
    {
      "cell_type": "code",
      "execution_count": 75,
      "metadata": {
        "id": "RkpvxFVxQYEZ"
      },
      "outputs": [
        {
          "data": {
            "text/plain": [
              "a    8.0\n",
              "d    NaN\n",
              "e    NaN\n",
              "g    2.0\n",
              "j    NaN\n",
              "l    2.0\n",
              "m    NaN\n",
              "r    NaN\n",
              "t    NaN\n",
              "u    2.0\n",
              "dtype: float64"
            ]
          },
          "execution_count": 75,
          "metadata": {},
          "output_type": "execute_result"
        }
      ],
      "source": [
        "# Suma s8 con s9\n",
        "s8+s9"
      ]
    },
    {
      "cell_type": "markdown",
      "metadata": {
        "id": "PaeADh9gQvcU"
      },
      "source": [
        "## Atributos de una serie\n",
        "Una serie, además de valores e índice, también tiene otros atributos: \n",
        "- value\n",
        "- index\n",
        "- name\n",
        "- dtype"
      ]
    },
    {
      "cell_type": "code",
      "execution_count": 78,
      "metadata": {
        "id": "v6n3tacvQbV7"
      },
      "outputs": [
        {
          "name": "stdout",
          "output_type": "stream",
          "text": [
            "\n",
            "--------------------------------------------------\n",
            "[Serie 6]\n",
            "--------------------------------------------------\n"
          ]
        },
        {
          "data": {
            "text/plain": [
              "Jalisco           8348\n",
              "Colima             731\n",
              "Aguascalientes    1425\n",
              "Michoacán         4748\n",
              "Zacatecas         1622\n",
              "Nayarit           1235\n",
              "Name: Población 2020, dtype: int64"
            ]
          },
          "execution_count": 78,
          "metadata": {},
          "output_type": "execute_result"
        }
      ],
      "source": [
        "s6.name=\"Población 2020\"\n",
        "encabezado(\"Serie 6\")\n",
        "s6"
      ]
    },
    {
      "cell_type": "code",
      "execution_count": 83,
      "metadata": {
        "id": "W7y-zeGoRBI0"
      },
      "outputs": [
        {
          "data": {
            "text/plain": [
              "e    100\n",
              "a      7\n",
              "r     -5\n",
              "x      3\n",
              "dtype: int32"
            ]
          },
          "execution_count": 83,
          "metadata": {},
          "output_type": "execute_result"
        }
      ],
      "source": [
        "# Para modificar un índice en particular\n",
        "obj = list(s2.index)\n",
        "obj[0] = \"e\"\n",
        "s2.index = obj\n",
        "s2\n"
      ]
    }
  ],
  "metadata": {
    "colab": {
      "collapsed_sections": [],
      "name": "ECID HEAD 2022-1A: 07- Pandas Series",
      "provenance": []
    },
    "interpreter": {
      "hash": "2db524e06e9f5f4ffedc911c917cb75e12dbc923643829bf417064a77eb14d37"
    },
    "kernelspec": {
      "display_name": "Python 3.8.3 64-bit",
      "name": "python3"
    },
    "language_info": {
      "name": "python",
      "version": "3.8.3"
    }
  },
  "nbformat": 4,
  "nbformat_minor": 0
}
