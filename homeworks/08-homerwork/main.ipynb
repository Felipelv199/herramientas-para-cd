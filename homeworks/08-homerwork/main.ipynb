{
  "cells": [
    {
      "cell_type": "markdown",
      "metadata": {},
      "source": [
        "# Aplicar cada una de las siguientes operaciones sobre filas y columnas del DataFrame"
      ]
    },
    {
      "cell_type": "code",
      "execution_count": 98,
      "metadata": {},
      "outputs": [
        {
          "data": {
            "text/html": [
              "<div>\n",
              "<style scoped>\n",
              "    .dataframe tbody tr th:only-of-type {\n",
              "        vertical-align: middle;\n",
              "    }\n",
              "\n",
              "    .dataframe tbody tr th {\n",
              "        vertical-align: top;\n",
              "    }\n",
              "\n",
              "    .dataframe thead th {\n",
              "        text-align: right;\n",
              "    }\n",
              "</style>\n",
              "<table border=\"1\" class=\"dataframe\">\n",
              "  <thead>\n",
              "    <tr style=\"text-align: right;\">\n",
              "      <th></th>\n",
              "      <th>0</th>\n",
              "      <th>1</th>\n",
              "      <th>2</th>\n",
              "      <th>3</th>\n",
              "      <th>4</th>\n",
              "    </tr>\n",
              "  </thead>\n",
              "  <tbody>\n",
              "    <tr>\n",
              "      <th>0</th>\n",
              "      <td>0.027228</td>\n",
              "      <td>0.638787</td>\n",
              "      <td>0.025126</td>\n",
              "      <td>0.531318</td>\n",
              "      <td>0.813257</td>\n",
              "    </tr>\n",
              "    <tr>\n",
              "      <th>1</th>\n",
              "      <td>0.924913</td>\n",
              "      <td>0.571807</td>\n",
              "      <td>0.811745</td>\n",
              "      <td>0.145138</td>\n",
              "      <td>0.198732</td>\n",
              "    </tr>\n",
              "    <tr>\n",
              "      <th>2</th>\n",
              "      <td>0.743091</td>\n",
              "      <td>0.354141</td>\n",
              "      <td>0.801277</td>\n",
              "      <td>0.230774</td>\n",
              "      <td>0.184145</td>\n",
              "    </tr>\n",
              "    <tr>\n",
              "      <th>3</th>\n",
              "      <td>0.996578</td>\n",
              "      <td>0.053905</td>\n",
              "      <td>0.873166</td>\n",
              "      <td>0.360184</td>\n",
              "      <td>0.199764</td>\n",
              "    </tr>\n",
              "    <tr>\n",
              "      <th>4</th>\n",
              "      <td>0.025514</td>\n",
              "      <td>0.317937</td>\n",
              "      <td>0.619205</td>\n",
              "      <td>0.605986</td>\n",
              "      <td>0.391494</td>\n",
              "    </tr>\n",
              "    <tr>\n",
              "      <th>5</th>\n",
              "      <td>0.751050</td>\n",
              "      <td>0.715369</td>\n",
              "      <td>0.722286</td>\n",
              "      <td>0.927487</td>\n",
              "      <td>0.264201</td>\n",
              "    </tr>\n",
              "    <tr>\n",
              "      <th>6</th>\n",
              "      <td>0.514510</td>\n",
              "      <td>0.467947</td>\n",
              "      <td>0.285153</td>\n",
              "      <td>0.001956</td>\n",
              "      <td>0.059270</td>\n",
              "    </tr>\n",
              "    <tr>\n",
              "      <th>7</th>\n",
              "      <td>0.468424</td>\n",
              "      <td>0.754213</td>\n",
              "      <td>0.041322</td>\n",
              "      <td>0.864937</td>\n",
              "      <td>0.205017</td>\n",
              "    </tr>\n",
              "    <tr>\n",
              "      <th>8</th>\n",
              "      <td>0.890418</td>\n",
              "      <td>0.371334</td>\n",
              "      <td>0.475603</td>\n",
              "      <td>0.416899</td>\n",
              "      <td>0.208473</td>\n",
              "    </tr>\n",
              "    <tr>\n",
              "      <th>9</th>\n",
              "      <td>0.116247</td>\n",
              "      <td>0.636207</td>\n",
              "      <td>0.653453</td>\n",
              "      <td>0.548971</td>\n",
              "      <td>0.362693</td>\n",
              "    </tr>\n",
              "  </tbody>\n",
              "</table>\n",
              "</div>"
            ],
            "text/plain": [
              "          0         1         2         3         4\n",
              "0  0.027228  0.638787  0.025126  0.531318  0.813257\n",
              "1  0.924913  0.571807  0.811745  0.145138  0.198732\n",
              "2  0.743091  0.354141  0.801277  0.230774  0.184145\n",
              "3  0.996578  0.053905  0.873166  0.360184  0.199764\n",
              "4  0.025514  0.317937  0.619205  0.605986  0.391494\n",
              "5  0.751050  0.715369  0.722286  0.927487  0.264201\n",
              "6  0.514510  0.467947  0.285153  0.001956  0.059270\n",
              "7  0.468424  0.754213  0.041322  0.864937  0.205017\n",
              "8  0.890418  0.371334  0.475603  0.416899  0.208473\n",
              "9  0.116247  0.636207  0.653453  0.548971  0.362693"
            ]
          },
          "execution_count": 98,
          "metadata": {},
          "output_type": "execute_result"
        }
      ],
      "source": [
        "import pandas as pd\n",
        "import numpy as np\n",
        "\n",
        "df = DataFrame(np.random.rand(50).reshape(10,5))\n",
        "df"
      ]
    },
    {
      "cell_type": "markdown",
      "metadata": {},
      "source": [
        "## count"
      ]
    },
    {
      "cell_type": "code",
      "execution_count": 99,
      "metadata": {},
      "outputs": [
        {
          "data": {
            "text/plain": [
              "0    10\n",
              "1    10\n",
              "2    10\n",
              "3    10\n",
              "4    10\n",
              "dtype: int64"
            ]
          },
          "execution_count": 99,
          "metadata": {},
          "output_type": "execute_result"
        }
      ],
      "source": [
        "df.count()"
      ]
    },
    {
      "cell_type": "code",
      "execution_count": 100,
      "metadata": {},
      "outputs": [
        {
          "data": {
            "text/plain": [
              "0    5\n",
              "1    5\n",
              "2    5\n",
              "3    5\n",
              "4    5\n",
              "5    5\n",
              "6    5\n",
              "7    5\n",
              "8    5\n",
              "9    5\n",
              "dtype: int64"
            ]
          },
          "execution_count": 100,
          "metadata": {},
          "output_type": "execute_result"
        }
      ],
      "source": [
        "df.count(axis=1)"
      ]
    },
    {
      "cell_type": "markdown",
      "metadata": {},
      "source": [
        "## describe"
      ]
    },
    {
      "cell_type": "code",
      "execution_count": 101,
      "metadata": {},
      "outputs": [
        {
          "data": {
            "text/html": [
              "<div>\n",
              "<style scoped>\n",
              "    .dataframe tbody tr th:only-of-type {\n",
              "        vertical-align: middle;\n",
              "    }\n",
              "\n",
              "    .dataframe tbody tr th {\n",
              "        vertical-align: top;\n",
              "    }\n",
              "\n",
              "    .dataframe thead th {\n",
              "        text-align: right;\n",
              "    }\n",
              "</style>\n",
              "<table border=\"1\" class=\"dataframe\">\n",
              "  <thead>\n",
              "    <tr style=\"text-align: right;\">\n",
              "      <th></th>\n",
              "      <th>0</th>\n",
              "      <th>1</th>\n",
              "      <th>2</th>\n",
              "      <th>3</th>\n",
              "      <th>4</th>\n",
              "    </tr>\n",
              "  </thead>\n",
              "  <tbody>\n",
              "    <tr>\n",
              "      <th>count</th>\n",
              "      <td>10.000000</td>\n",
              "      <td>10.000000</td>\n",
              "      <td>10.000000</td>\n",
              "      <td>10.000000</td>\n",
              "      <td>10.000000</td>\n",
              "    </tr>\n",
              "    <tr>\n",
              "      <th>mean</th>\n",
              "      <td>0.545797</td>\n",
              "      <td>0.488165</td>\n",
              "      <td>0.530834</td>\n",
              "      <td>0.463365</td>\n",
              "      <td>0.288704</td>\n",
              "    </tr>\n",
              "    <tr>\n",
              "      <th>std</th>\n",
              "      <td>0.376805</td>\n",
              "      <td>0.216944</td>\n",
              "      <td>0.314027</td>\n",
              "      <td>0.296278</td>\n",
              "      <td>0.206778</td>\n",
              "    </tr>\n",
              "    <tr>\n",
              "      <th>min</th>\n",
              "      <td>0.025514</td>\n",
              "      <td>0.053905</td>\n",
              "      <td>0.025126</td>\n",
              "      <td>0.001956</td>\n",
              "      <td>0.059270</td>\n",
              "    </tr>\n",
              "    <tr>\n",
              "      <th>25%</th>\n",
              "      <td>0.204291</td>\n",
              "      <td>0.358439</td>\n",
              "      <td>0.332765</td>\n",
              "      <td>0.263127</td>\n",
              "      <td>0.198990</td>\n",
              "    </tr>\n",
              "    <tr>\n",
              "      <th>50%</th>\n",
              "      <td>0.628800</td>\n",
              "      <td>0.519877</td>\n",
              "      <td>0.636329</td>\n",
              "      <td>0.474108</td>\n",
              "      <td>0.206745</td>\n",
              "    </tr>\n",
              "    <tr>\n",
              "      <th>75%</th>\n",
              "      <td>0.855576</td>\n",
              "      <td>0.638142</td>\n",
              "      <td>0.781530</td>\n",
              "      <td>0.591733</td>\n",
              "      <td>0.338070</td>\n",
              "    </tr>\n",
              "    <tr>\n",
              "      <th>max</th>\n",
              "      <td>0.996578</td>\n",
              "      <td>0.754213</td>\n",
              "      <td>0.873166</td>\n",
              "      <td>0.927487</td>\n",
              "      <td>0.813257</td>\n",
              "    </tr>\n",
              "  </tbody>\n",
              "</table>\n",
              "</div>"
            ],
            "text/plain": [
              "               0          1          2          3          4\n",
              "count  10.000000  10.000000  10.000000  10.000000  10.000000\n",
              "mean    0.545797   0.488165   0.530834   0.463365   0.288704\n",
              "std     0.376805   0.216944   0.314027   0.296278   0.206778\n",
              "min     0.025514   0.053905   0.025126   0.001956   0.059270\n",
              "25%     0.204291   0.358439   0.332765   0.263127   0.198990\n",
              "50%     0.628800   0.519877   0.636329   0.474108   0.206745\n",
              "75%     0.855576   0.638142   0.781530   0.591733   0.338070\n",
              "max     0.996578   0.754213   0.873166   0.927487   0.813257"
            ]
          },
          "execution_count": 101,
          "metadata": {},
          "output_type": "execute_result"
        }
      ],
      "source": [
        "df.describe()"
      ]
    },
    {
      "cell_type": "markdown",
      "metadata": {},
      "source": [
        "## mean"
      ]
    },
    {
      "cell_type": "code",
      "execution_count": 102,
      "metadata": {},
      "outputs": [
        {
          "data": {
            "text/plain": [
              "0    0.545797\n",
              "1    0.488165\n",
              "2    0.530834\n",
              "3    0.463365\n",
              "4    0.288704\n",
              "dtype: float64"
            ]
          },
          "execution_count": 102,
          "metadata": {},
          "output_type": "execute_result"
        }
      ],
      "source": [
        "df.mean()"
      ]
    },
    {
      "cell_type": "code",
      "execution_count": 103,
      "metadata": {},
      "outputs": [
        {
          "data": {
            "text/plain": [
              "0    0.407143\n",
              "1    0.530467\n",
              "2    0.462686\n",
              "3    0.496719\n",
              "4    0.392027\n",
              "5    0.676079\n",
              "6    0.265767\n",
              "7    0.466783\n",
              "8    0.472545\n",
              "9    0.463514\n",
              "dtype: float64"
            ]
          },
          "execution_count": 103,
          "metadata": {},
          "output_type": "execute_result"
        }
      ],
      "source": [
        "df.mean(axis=1)"
      ]
    },
    {
      "cell_type": "markdown",
      "metadata": {},
      "source": [
        "## min, max"
      ]
    },
    {
      "cell_type": "code",
      "execution_count": 104,
      "metadata": {},
      "outputs": [
        {
          "data": {
            "text/plain": [
              "0    0.025514\n",
              "1    0.053905\n",
              "2    0.025126\n",
              "3    0.001956\n",
              "4    0.059270\n",
              "dtype: float64"
            ]
          },
          "metadata": {},
          "output_type": "display_data"
        },
        {
          "data": {
            "text/plain": [
              "0    0.996578\n",
              "1    0.754213\n",
              "2    0.873166\n",
              "3    0.927487\n",
              "4    0.813257\n",
              "dtype: float64"
            ]
          },
          "metadata": {},
          "output_type": "display_data"
        }
      ],
      "source": [
        "display(df.min())\n",
        "display(df.max())"
      ]
    },
    {
      "cell_type": "code",
      "execution_count": 105,
      "metadata": {},
      "outputs": [
        {
          "data": {
            "text/plain": [
              "0    0.025126\n",
              "1    0.145138\n",
              "2    0.184145\n",
              "3    0.053905\n",
              "4    0.025514\n",
              "5    0.264201\n",
              "6    0.001956\n",
              "7    0.041322\n",
              "8    0.208473\n",
              "9    0.116247\n",
              "dtype: float64"
            ]
          },
          "metadata": {},
          "output_type": "display_data"
        },
        {
          "data": {
            "text/plain": [
              "0    0.813257\n",
              "1    0.924913\n",
              "2    0.801277\n",
              "3    0.996578\n",
              "4    0.619205\n",
              "5    0.927487\n",
              "6    0.514510\n",
              "7    0.864937\n",
              "8    0.890418\n",
              "9    0.653453\n",
              "dtype: float64"
            ]
          },
          "metadata": {},
          "output_type": "display_data"
        }
      ],
      "source": [
        "ax1 = 1\n",
        "display(df.min(axis=ax1))\n",
        "display(df.max(axis=ax1))\n"
      ]
    },
    {
      "cell_type": "markdown",
      "metadata": {},
      "source": [
        "## argmin, argmax"
      ]
    },
    {
      "cell_type": "code",
      "execution_count": 106,
      "metadata": {},
      "outputs": [
        {
          "data": {
            "text/plain": [
              "0    4\n",
              "1    3\n",
              "2    0\n",
              "3    6\n",
              "4    6\n",
              "dtype: int64"
            ]
          },
          "metadata": {},
          "output_type": "display_data"
        },
        {
          "data": {
            "text/plain": [
              "0    3\n",
              "1    7\n",
              "2    3\n",
              "3    5\n",
              "4    0\n",
              "dtype: int64"
            ]
          },
          "metadata": {},
          "output_type": "display_data"
        }
      ],
      "source": [
        "display(df.apply(lambda x: x.argmin()))\n",
        "display(df.apply(lambda x: x.argmax()))"
      ]
    },
    {
      "cell_type": "code",
      "execution_count": 107,
      "metadata": {},
      "outputs": [
        {
          "data": {
            "text/plain": [
              "0    2\n",
              "1    3\n",
              "2    4\n",
              "3    1\n",
              "4    0\n",
              "5    4\n",
              "6    3\n",
              "7    2\n",
              "8    4\n",
              "9    0\n",
              "dtype: int64"
            ]
          },
          "metadata": {},
          "output_type": "display_data"
        },
        {
          "data": {
            "text/plain": [
              "0    4\n",
              "1    0\n",
              "2    2\n",
              "3    0\n",
              "4    2\n",
              "5    3\n",
              "6    0\n",
              "7    3\n",
              "8    0\n",
              "9    2\n",
              "dtype: int64"
            ]
          },
          "metadata": {},
          "output_type": "display_data"
        }
      ],
      "source": [
        "display(df.apply(lambda x: x.argmin(), axis=ax1))\n",
        "display(df.apply(lambda x: x.argmax(), axis=ax1))"
      ]
    },
    {
      "cell_type": "markdown",
      "metadata": {},
      "source": [
        "## idmin, idmax"
      ]
    },
    {
      "cell_type": "code",
      "execution_count": 108,
      "metadata": {},
      "outputs": [
        {
          "data": {
            "text/plain": [
              "0    3\n",
              "1    7\n",
              "2    3\n",
              "3    5\n",
              "4    0\n",
              "dtype: int64"
            ]
          },
          "metadata": {},
          "output_type": "display_data"
        },
        {
          "data": {
            "text/plain": [
              "0    4\n",
              "1    3\n",
              "2    0\n",
              "3    6\n",
              "4    6\n",
              "dtype: int64"
            ]
          },
          "metadata": {},
          "output_type": "display_data"
        }
      ],
      "source": [
        "display(df.idxmax())\n",
        "display(df.idxmin())"
      ]
    },
    {
      "cell_type": "code",
      "execution_count": 109,
      "metadata": {},
      "outputs": [
        {
          "data": {
            "text/plain": [
              "0    4\n",
              "1    0\n",
              "2    2\n",
              "3    0\n",
              "4    2\n",
              "5    3\n",
              "6    0\n",
              "7    3\n",
              "8    0\n",
              "9    2\n",
              "dtype: int64"
            ]
          },
          "metadata": {},
          "output_type": "display_data"
        },
        {
          "data": {
            "text/plain": [
              "0    2\n",
              "1    3\n",
              "2    4\n",
              "3    1\n",
              "4    0\n",
              "5    4\n",
              "6    3\n",
              "7    2\n",
              "8    4\n",
              "9    0\n",
              "dtype: int64"
            ]
          },
          "metadata": {},
          "output_type": "display_data"
        }
      ],
      "source": [
        "display(df.idxmax(axis=ax1))\n",
        "display(df.idxmin(axis=ax1))"
      ]
    },
    {
      "cell_type": "markdown",
      "metadata": {},
      "source": [
        "# quantile"
      ]
    },
    {
      "cell_type": "code",
      "execution_count": 110,
      "metadata": {},
      "outputs": [
        {
          "data": {
            "text/plain": [
              "0    0.628800\n",
              "1    0.519877\n",
              "2    0.636329\n",
              "3    0.474108\n",
              "4    0.206745\n",
              "Name: 0.5, dtype: float64"
            ]
          },
          "execution_count": 110,
          "metadata": {},
          "output_type": "execute_result"
        }
      ],
      "source": [
        "df.quantile()"
      ]
    },
    {
      "cell_type": "code",
      "execution_count": 111,
      "metadata": {},
      "outputs": [
        {
          "data": {
            "text/plain": [
              "0    0.531318\n",
              "1    0.571807\n",
              "2    0.354141\n",
              "3    0.360184\n",
              "4    0.391494\n",
              "5    0.722286\n",
              "6    0.285153\n",
              "7    0.468424\n",
              "8    0.416899\n",
              "9    0.548971\n",
              "Name: 0.5, dtype: float64"
            ]
          },
          "execution_count": 111,
          "metadata": {},
          "output_type": "execute_result"
        }
      ],
      "source": [
        "df.quantile(axis=ax1)"
      ]
    },
    {
      "cell_type": "markdown",
      "metadata": {},
      "source": [
        "## sum"
      ]
    },
    {
      "cell_type": "code",
      "execution_count": 112,
      "metadata": {},
      "outputs": [
        {
          "data": {
            "text/plain": [
              "0    5.457971\n",
              "1    4.881648\n",
              "2    5.308337\n",
              "3    4.633650\n",
              "4    2.887045\n",
              "dtype: float64"
            ]
          },
          "execution_count": 112,
          "metadata": {},
          "output_type": "execute_result"
        }
      ],
      "source": [
        "df.sum()"
      ]
    },
    {
      "cell_type": "code",
      "execution_count": 113,
      "metadata": {},
      "outputs": [
        {
          "data": {
            "text/plain": [
              "0    2.035716\n",
              "1    2.652334\n",
              "2    2.313428\n",
              "3    2.483597\n",
              "4    1.960137\n",
              "5    3.380393\n",
              "6    1.328835\n",
              "7    2.333913\n",
              "8    2.362726\n",
              "9    2.317571\n",
              "dtype: float64"
            ]
          },
          "execution_count": 113,
          "metadata": {},
          "output_type": "execute_result"
        }
      ],
      "source": [
        "df.sum(axis=ax1)"
      ]
    },
    {
      "cell_type": "markdown",
      "metadata": {},
      "source": [
        "## mean"
      ]
    },
    {
      "cell_type": "code",
      "execution_count": 114,
      "metadata": {},
      "outputs": [
        {
          "data": {
            "text/plain": [
              "0    0.545797\n",
              "1    0.488165\n",
              "2    0.530834\n",
              "3    0.463365\n",
              "4    0.288704\n",
              "dtype: float64"
            ]
          },
          "execution_count": 114,
          "metadata": {},
          "output_type": "execute_result"
        }
      ],
      "source": [
        "df.mean()"
      ]
    },
    {
      "cell_type": "code",
      "execution_count": 115,
      "metadata": {},
      "outputs": [
        {
          "data": {
            "text/plain": [
              "0    0.407143\n",
              "1    0.530467\n",
              "2    0.462686\n",
              "3    0.496719\n",
              "4    0.392027\n",
              "5    0.676079\n",
              "6    0.265767\n",
              "7    0.466783\n",
              "8    0.472545\n",
              "9    0.463514\n",
              "dtype: float64"
            ]
          },
          "execution_count": 115,
          "metadata": {},
          "output_type": "execute_result"
        }
      ],
      "source": [
        "df.mean(axis=ax1)"
      ]
    },
    {
      "cell_type": "markdown",
      "metadata": {},
      "source": [
        "## meadian"
      ]
    },
    {
      "cell_type": "code",
      "execution_count": 116,
      "metadata": {},
      "outputs": [
        {
          "data": {
            "text/plain": [
              "0    0.545797\n",
              "1    0.488165\n",
              "2    0.530834\n",
              "3    0.463365\n",
              "4    0.288704\n",
              "dtype: float64"
            ]
          },
          "execution_count": 116,
          "metadata": {},
          "output_type": "execute_result"
        }
      ],
      "source": [
        "df.mean()"
      ]
    },
    {
      "cell_type": "code",
      "execution_count": 117,
      "metadata": {},
      "outputs": [
        {
          "data": {
            "text/plain": [
              "0    0.407143\n",
              "1    0.530467\n",
              "2    0.462686\n",
              "3    0.496719\n",
              "4    0.392027\n",
              "5    0.676079\n",
              "6    0.265767\n",
              "7    0.466783\n",
              "8    0.472545\n",
              "9    0.463514\n",
              "dtype: float64"
            ]
          },
          "execution_count": 117,
          "metadata": {},
          "output_type": "execute_result"
        }
      ],
      "source": [
        "df.mean(axis=ax1)"
      ]
    },
    {
      "cell_type": "markdown",
      "metadata": {},
      "source": [
        "## mod"
      ]
    },
    {
      "cell_type": "code",
      "execution_count": 118,
      "metadata": {},
      "outputs": [
        {
          "data": {
            "text/html": [
              "<div>\n",
              "<style scoped>\n",
              "    .dataframe tbody tr th:only-of-type {\n",
              "        vertical-align: middle;\n",
              "    }\n",
              "\n",
              "    .dataframe tbody tr th {\n",
              "        vertical-align: top;\n",
              "    }\n",
              "\n",
              "    .dataframe thead th {\n",
              "        text-align: right;\n",
              "    }\n",
              "</style>\n",
              "<table border=\"1\" class=\"dataframe\">\n",
              "  <thead>\n",
              "    <tr style=\"text-align: right;\">\n",
              "      <th></th>\n",
              "      <th>0</th>\n",
              "      <th>1</th>\n",
              "      <th>2</th>\n",
              "      <th>3</th>\n",
              "      <th>4</th>\n",
              "    </tr>\n",
              "  </thead>\n",
              "  <tbody>\n",
              "    <tr>\n",
              "      <th>0</th>\n",
              "      <td>0.025514</td>\n",
              "      <td>0.053905</td>\n",
              "      <td>0.025126</td>\n",
              "      <td>0.001956</td>\n",
              "      <td>0.059270</td>\n",
              "    </tr>\n",
              "    <tr>\n",
              "      <th>1</th>\n",
              "      <td>0.027228</td>\n",
              "      <td>0.317937</td>\n",
              "      <td>0.041322</td>\n",
              "      <td>0.145138</td>\n",
              "      <td>0.184145</td>\n",
              "    </tr>\n",
              "    <tr>\n",
              "      <th>2</th>\n",
              "      <td>0.116247</td>\n",
              "      <td>0.354141</td>\n",
              "      <td>0.285153</td>\n",
              "      <td>0.230774</td>\n",
              "      <td>0.198732</td>\n",
              "    </tr>\n",
              "    <tr>\n",
              "      <th>3</th>\n",
              "      <td>0.468424</td>\n",
              "      <td>0.371334</td>\n",
              "      <td>0.475603</td>\n",
              "      <td>0.360184</td>\n",
              "      <td>0.199764</td>\n",
              "    </tr>\n",
              "    <tr>\n",
              "      <th>4</th>\n",
              "      <td>0.514510</td>\n",
              "      <td>0.467947</td>\n",
              "      <td>0.619205</td>\n",
              "      <td>0.416899</td>\n",
              "      <td>0.205017</td>\n",
              "    </tr>\n",
              "    <tr>\n",
              "      <th>5</th>\n",
              "      <td>0.743091</td>\n",
              "      <td>0.571807</td>\n",
              "      <td>0.653453</td>\n",
              "      <td>0.531318</td>\n",
              "      <td>0.208473</td>\n",
              "    </tr>\n",
              "    <tr>\n",
              "      <th>6</th>\n",
              "      <td>0.751050</td>\n",
              "      <td>0.636207</td>\n",
              "      <td>0.722286</td>\n",
              "      <td>0.548971</td>\n",
              "      <td>0.264201</td>\n",
              "    </tr>\n",
              "    <tr>\n",
              "      <th>7</th>\n",
              "      <td>0.890418</td>\n",
              "      <td>0.638787</td>\n",
              "      <td>0.801277</td>\n",
              "      <td>0.605986</td>\n",
              "      <td>0.362693</td>\n",
              "    </tr>\n",
              "    <tr>\n",
              "      <th>8</th>\n",
              "      <td>0.924913</td>\n",
              "      <td>0.715369</td>\n",
              "      <td>0.811745</td>\n",
              "      <td>0.864937</td>\n",
              "      <td>0.391494</td>\n",
              "    </tr>\n",
              "    <tr>\n",
              "      <th>9</th>\n",
              "      <td>0.996578</td>\n",
              "      <td>0.754213</td>\n",
              "      <td>0.873166</td>\n",
              "      <td>0.927487</td>\n",
              "      <td>0.813257</td>\n",
              "    </tr>\n",
              "  </tbody>\n",
              "</table>\n",
              "</div>"
            ],
            "text/plain": [
              "          0         1         2         3         4\n",
              "0  0.025514  0.053905  0.025126  0.001956  0.059270\n",
              "1  0.027228  0.317937  0.041322  0.145138  0.184145\n",
              "2  0.116247  0.354141  0.285153  0.230774  0.198732\n",
              "3  0.468424  0.371334  0.475603  0.360184  0.199764\n",
              "4  0.514510  0.467947  0.619205  0.416899  0.205017\n",
              "5  0.743091  0.571807  0.653453  0.531318  0.208473\n",
              "6  0.751050  0.636207  0.722286  0.548971  0.264201\n",
              "7  0.890418  0.638787  0.801277  0.605986  0.362693\n",
              "8  0.924913  0.715369  0.811745  0.864937  0.391494\n",
              "9  0.996578  0.754213  0.873166  0.927487  0.813257"
            ]
          },
          "execution_count": 118,
          "metadata": {},
          "output_type": "execute_result"
        }
      ],
      "source": [
        "df.mode()"
      ]
    },
    {
      "cell_type": "code",
      "execution_count": 119,
      "metadata": {},
      "outputs": [
        {
          "data": {
            "text/html": [
              "<div>\n",
              "<style scoped>\n",
              "    .dataframe tbody tr th:only-of-type {\n",
              "        vertical-align: middle;\n",
              "    }\n",
              "\n",
              "    .dataframe tbody tr th {\n",
              "        vertical-align: top;\n",
              "    }\n",
              "\n",
              "    .dataframe thead th {\n",
              "        text-align: right;\n",
              "    }\n",
              "</style>\n",
              "<table border=\"1\" class=\"dataframe\">\n",
              "  <thead>\n",
              "    <tr style=\"text-align: right;\">\n",
              "      <th></th>\n",
              "      <th>0</th>\n",
              "      <th>1</th>\n",
              "      <th>2</th>\n",
              "      <th>3</th>\n",
              "      <th>4</th>\n",
              "    </tr>\n",
              "  </thead>\n",
              "  <tbody>\n",
              "    <tr>\n",
              "      <th>0</th>\n",
              "      <td>0.025126</td>\n",
              "      <td>0.027228</td>\n",
              "      <td>0.531318</td>\n",
              "      <td>0.638787</td>\n",
              "      <td>0.813257</td>\n",
              "    </tr>\n",
              "    <tr>\n",
              "      <th>1</th>\n",
              "      <td>0.145138</td>\n",
              "      <td>0.198732</td>\n",
              "      <td>0.571807</td>\n",
              "      <td>0.811745</td>\n",
              "      <td>0.924913</td>\n",
              "    </tr>\n",
              "    <tr>\n",
              "      <th>2</th>\n",
              "      <td>0.184145</td>\n",
              "      <td>0.230774</td>\n",
              "      <td>0.354141</td>\n",
              "      <td>0.743091</td>\n",
              "      <td>0.801277</td>\n",
              "    </tr>\n",
              "    <tr>\n",
              "      <th>3</th>\n",
              "      <td>0.053905</td>\n",
              "      <td>0.199764</td>\n",
              "      <td>0.360184</td>\n",
              "      <td>0.873166</td>\n",
              "      <td>0.996578</td>\n",
              "    </tr>\n",
              "    <tr>\n",
              "      <th>4</th>\n",
              "      <td>0.025514</td>\n",
              "      <td>0.317937</td>\n",
              "      <td>0.391494</td>\n",
              "      <td>0.605986</td>\n",
              "      <td>0.619205</td>\n",
              "    </tr>\n",
              "    <tr>\n",
              "      <th>5</th>\n",
              "      <td>0.264201</td>\n",
              "      <td>0.715369</td>\n",
              "      <td>0.722286</td>\n",
              "      <td>0.751050</td>\n",
              "      <td>0.927487</td>\n",
              "    </tr>\n",
              "    <tr>\n",
              "      <th>6</th>\n",
              "      <td>0.001956</td>\n",
              "      <td>0.059270</td>\n",
              "      <td>0.285153</td>\n",
              "      <td>0.467947</td>\n",
              "      <td>0.514510</td>\n",
              "    </tr>\n",
              "    <tr>\n",
              "      <th>7</th>\n",
              "      <td>0.041322</td>\n",
              "      <td>0.205017</td>\n",
              "      <td>0.468424</td>\n",
              "      <td>0.754213</td>\n",
              "      <td>0.864937</td>\n",
              "    </tr>\n",
              "    <tr>\n",
              "      <th>8</th>\n",
              "      <td>0.208473</td>\n",
              "      <td>0.371334</td>\n",
              "      <td>0.416899</td>\n",
              "      <td>0.475603</td>\n",
              "      <td>0.890418</td>\n",
              "    </tr>\n",
              "    <tr>\n",
              "      <th>9</th>\n",
              "      <td>0.116247</td>\n",
              "      <td>0.362693</td>\n",
              "      <td>0.548971</td>\n",
              "      <td>0.636207</td>\n",
              "      <td>0.653453</td>\n",
              "    </tr>\n",
              "  </tbody>\n",
              "</table>\n",
              "</div>"
            ],
            "text/plain": [
              "          0         1         2         3         4\n",
              "0  0.025126  0.027228  0.531318  0.638787  0.813257\n",
              "1  0.145138  0.198732  0.571807  0.811745  0.924913\n",
              "2  0.184145  0.230774  0.354141  0.743091  0.801277\n",
              "3  0.053905  0.199764  0.360184  0.873166  0.996578\n",
              "4  0.025514  0.317937  0.391494  0.605986  0.619205\n",
              "5  0.264201  0.715369  0.722286  0.751050  0.927487\n",
              "6  0.001956  0.059270  0.285153  0.467947  0.514510\n",
              "7  0.041322  0.205017  0.468424  0.754213  0.864937\n",
              "8  0.208473  0.371334  0.416899  0.475603  0.890418\n",
              "9  0.116247  0.362693  0.548971  0.636207  0.653453"
            ]
          },
          "execution_count": 119,
          "metadata": {},
          "output_type": "execute_result"
        }
      ],
      "source": [
        "df.mode(axis=ax1)"
      ]
    },
    {
      "cell_type": "markdown",
      "metadata": {},
      "source": [
        "## prod"
      ]
    },
    {
      "cell_type": "code",
      "execution_count": 120,
      "metadata": {},
      "outputs": [
        {
          "data": {
            "text/plain": [
              "0    8.914902e-06\n",
              "1    1.322330e-04\n",
              "2    2.337086e-05\n",
              "3    1.394593e-06\n",
              "4    5.649977e-07\n",
              "dtype: float64"
            ]
          },
          "execution_count": 120,
          "metadata": {},
          "output_type": "execute_result"
        }
      ],
      "source": [
        "df.prod()"
      ]
    },
    {
      "cell_type": "code",
      "execution_count": 121,
      "metadata": {},
      "outputs": [
        {
          "data": {
            "text/plain": [
              "0    0.000189\n",
              "1    0.012383\n",
              "2    0.008961\n",
              "3    0.003375\n",
              "4    0.001192\n",
              "5    0.095093\n",
              "6    0.000008\n",
              "7    0.002589\n",
              "8    0.013667\n",
              "9    0.009622\n",
              "dtype: float64"
            ]
          },
          "execution_count": 121,
          "metadata": {},
          "output_type": "execute_result"
        }
      ],
      "source": [
        "df.prod(axis=ax1)"
      ]
    },
    {
      "cell_type": "markdown",
      "metadata": {},
      "source": [
        "## var"
      ]
    },
    {
      "cell_type": "code",
      "execution_count": 122,
      "metadata": {},
      "outputs": [
        {
          "data": {
            "text/plain": [
              "0    0.141982\n",
              "1    0.047065\n",
              "2    0.098613\n",
              "3    0.087781\n",
              "4    0.042757\n",
              "dtype: float64"
            ]
          },
          "execution_count": 122,
          "metadata": {},
          "output_type": "execute_result"
        }
      ],
      "source": [
        "df.var()"
      ]
    },
    {
      "cell_type": "code",
      "execution_count": 123,
      "metadata": {},
      "outputs": [
        {
          "data": {
            "text/plain": [
              "0    0.131070\n",
              "1    0.123735\n",
              "2    0.084105\n",
              "3    0.173620\n",
              "4    0.059303\n",
              "5    0.060537\n",
              "6    0.053841\n",
              "7    0.122671\n",
              "8    0.064425\n",
              "9    0.050991\n",
              "dtype: float64"
            ]
          },
          "execution_count": 123,
          "metadata": {},
          "output_type": "execute_result"
        }
      ],
      "source": [
        "df.var(axis=ax1)"
      ]
    },
    {
      "cell_type": "markdown",
      "metadata": {},
      "source": [
        "## std"
      ]
    },
    {
      "cell_type": "code",
      "execution_count": 124,
      "metadata": {},
      "outputs": [
        {
          "data": {
            "text/plain": [
              "0    0.376805\n",
              "1    0.216944\n",
              "2    0.314027\n",
              "3    0.296278\n",
              "4    0.206778\n",
              "dtype: float64"
            ]
          },
          "execution_count": 124,
          "metadata": {},
          "output_type": "execute_result"
        }
      ],
      "source": [
        "df.std()"
      ]
    },
    {
      "cell_type": "code",
      "execution_count": 125,
      "metadata": {},
      "outputs": [
        {
          "data": {
            "text/plain": [
              "0    0.362036\n",
              "1    0.351760\n",
              "2    0.290009\n",
              "3    0.416677\n",
              "4    0.243521\n",
              "5    0.246043\n",
              "6    0.232036\n",
              "7    0.350244\n",
              "8    0.253822\n",
              "9    0.225811\n",
              "dtype: float64"
            ]
          },
          "execution_count": 125,
          "metadata": {},
          "output_type": "execute_result"
        }
      ],
      "source": [
        "df.std(axis=ax1)"
      ]
    },
    {
      "cell_type": "markdown",
      "metadata": {},
      "source": [
        "## skew"
      ]
    },
    {
      "cell_type": "code",
      "execution_count": 126,
      "metadata": {},
      "outputs": [
        {
          "data": {
            "text/plain": [
              "0   -0.406794\n",
              "1   -0.721338\n",
              "2   -0.762498\n",
              "3    0.129954\n",
              "4    2.043053\n",
              "dtype: float64"
            ]
          },
          "execution_count": 126,
          "metadata": {},
          "output_type": "execute_result"
        }
      ],
      "source": [
        "df.skew()"
      ]
    },
    {
      "cell_type": "code",
      "execution_count": 127,
      "metadata": {},
      "outputs": [
        {
          "data": {
            "text/plain": [
              "0   -0.256943\n",
              "1   -0.095963\n",
              "2    0.435652\n",
              "3    0.361012\n",
              "4   -0.811383\n",
              "5   -1.493841\n",
              "6   -0.116847\n",
              "7   -0.078429\n",
              "8    1.359215\n",
              "9   -1.095630\n",
              "dtype: float64"
            ]
          },
          "execution_count": 127,
          "metadata": {},
          "output_type": "execute_result"
        }
      ],
      "source": [
        "df.skew(axis=ax1)"
      ]
    },
    {
      "cell_type": "markdown",
      "metadata": {},
      "source": [
        "## kurt"
      ]
    },
    {
      "cell_type": "code",
      "execution_count": 128,
      "metadata": {},
      "outputs": [
        {
          "data": {
            "text/plain": [
              "0   -1.534989\n",
              "1    0.156720\n",
              "2   -0.896058\n",
              "3   -0.614027\n",
              "4    5.087395\n",
              "dtype: float64"
            ]
          },
          "execution_count": 128,
          "metadata": {},
          "output_type": "execute_result"
        }
      ],
      "source": [
        "df.kurt()"
      ]
    },
    {
      "cell_type": "code",
      "execution_count": 129,
      "metadata": {},
      "outputs": [
        {
          "data": {
            "text/plain": [
              "0   -2.728486\n",
              "1   -2.723647\n",
              "2   -2.985583\n",
              "3   -2.647155\n",
              "4    0.116258\n",
              "5    3.191865\n",
              "6   -2.755961\n",
              "7   -2.233644\n",
              "8    2.681719\n",
              "9    0.120402\n",
              "dtype: float64"
            ]
          },
          "execution_count": 129,
          "metadata": {},
          "output_type": "execute_result"
        }
      ],
      "source": [
        "df.kurt(axis=ax1)"
      ]
    },
    {
      "cell_type": "markdown",
      "metadata": {},
      "source": [
        "## cumsum"
      ]
    },
    {
      "cell_type": "code",
      "execution_count": 130,
      "metadata": {},
      "outputs": [
        {
          "data": {
            "text/html": [
              "<div>\n",
              "<style scoped>\n",
              "    .dataframe tbody tr th:only-of-type {\n",
              "        vertical-align: middle;\n",
              "    }\n",
              "\n",
              "    .dataframe tbody tr th {\n",
              "        vertical-align: top;\n",
              "    }\n",
              "\n",
              "    .dataframe thead th {\n",
              "        text-align: right;\n",
              "    }\n",
              "</style>\n",
              "<table border=\"1\" class=\"dataframe\">\n",
              "  <thead>\n",
              "    <tr style=\"text-align: right;\">\n",
              "      <th></th>\n",
              "      <th>0</th>\n",
              "      <th>1</th>\n",
              "      <th>2</th>\n",
              "      <th>3</th>\n",
              "      <th>4</th>\n",
              "    </tr>\n",
              "  </thead>\n",
              "  <tbody>\n",
              "    <tr>\n",
              "      <th>0</th>\n",
              "      <td>0.027228</td>\n",
              "      <td>0.638787</td>\n",
              "      <td>0.025126</td>\n",
              "      <td>0.531318</td>\n",
              "      <td>0.813257</td>\n",
              "    </tr>\n",
              "    <tr>\n",
              "      <th>1</th>\n",
              "      <td>0.952141</td>\n",
              "      <td>1.210594</td>\n",
              "      <td>0.836871</td>\n",
              "      <td>0.676456</td>\n",
              "      <td>1.011988</td>\n",
              "    </tr>\n",
              "    <tr>\n",
              "      <th>2</th>\n",
              "      <td>1.695232</td>\n",
              "      <td>1.564735</td>\n",
              "      <td>1.638148</td>\n",
              "      <td>0.907230</td>\n",
              "      <td>1.196133</td>\n",
              "    </tr>\n",
              "    <tr>\n",
              "      <th>3</th>\n",
              "      <td>2.691809</td>\n",
              "      <td>1.618641</td>\n",
              "      <td>2.511314</td>\n",
              "      <td>1.267414</td>\n",
              "      <td>1.395897</td>\n",
              "    </tr>\n",
              "    <tr>\n",
              "      <th>4</th>\n",
              "      <td>2.717323</td>\n",
              "      <td>1.936578</td>\n",
              "      <td>3.130520</td>\n",
              "      <td>1.873400</td>\n",
              "      <td>1.787391</td>\n",
              "    </tr>\n",
              "    <tr>\n",
              "      <th>5</th>\n",
              "      <td>3.468373</td>\n",
              "      <td>2.651947</td>\n",
              "      <td>3.852805</td>\n",
              "      <td>2.800887</td>\n",
              "      <td>2.051592</td>\n",
              "    </tr>\n",
              "    <tr>\n",
              "      <th>6</th>\n",
              "      <td>3.982883</td>\n",
              "      <td>3.119894</td>\n",
              "      <td>4.137958</td>\n",
              "      <td>2.802843</td>\n",
              "      <td>2.110863</td>\n",
              "    </tr>\n",
              "    <tr>\n",
              "      <th>7</th>\n",
              "      <td>4.451306</td>\n",
              "      <td>3.874107</td>\n",
              "      <td>4.179280</td>\n",
              "      <td>3.667780</td>\n",
              "      <td>2.315880</td>\n",
              "    </tr>\n",
              "    <tr>\n",
              "      <th>8</th>\n",
              "      <td>5.341724</td>\n",
              "      <td>4.245441</td>\n",
              "      <td>4.654883</td>\n",
              "      <td>4.084679</td>\n",
              "      <td>2.524352</td>\n",
              "    </tr>\n",
              "    <tr>\n",
              "      <th>9</th>\n",
              "      <td>5.457971</td>\n",
              "      <td>4.881648</td>\n",
              "      <td>5.308337</td>\n",
              "      <td>4.633650</td>\n",
              "      <td>2.887045</td>\n",
              "    </tr>\n",
              "  </tbody>\n",
              "</table>\n",
              "</div>"
            ],
            "text/plain": [
              "          0         1         2         3         4\n",
              "0  0.027228  0.638787  0.025126  0.531318  0.813257\n",
              "1  0.952141  1.210594  0.836871  0.676456  1.011988\n",
              "2  1.695232  1.564735  1.638148  0.907230  1.196133\n",
              "3  2.691809  1.618641  2.511314  1.267414  1.395897\n",
              "4  2.717323  1.936578  3.130520  1.873400  1.787391\n",
              "5  3.468373  2.651947  3.852805  2.800887  2.051592\n",
              "6  3.982883  3.119894  4.137958  2.802843  2.110863\n",
              "7  4.451306  3.874107  4.179280  3.667780  2.315880\n",
              "8  5.341724  4.245441  4.654883  4.084679  2.524352\n",
              "9  5.457971  4.881648  5.308337  4.633650  2.887045"
            ]
          },
          "execution_count": 130,
          "metadata": {},
          "output_type": "execute_result"
        }
      ],
      "source": [
        "df.cumsum()"
      ]
    },
    {
      "cell_type": "code",
      "execution_count": 131,
      "metadata": {},
      "outputs": [
        {
          "data": {
            "text/html": [
              "<div>\n",
              "<style scoped>\n",
              "    .dataframe tbody tr th:only-of-type {\n",
              "        vertical-align: middle;\n",
              "    }\n",
              "\n",
              "    .dataframe tbody tr th {\n",
              "        vertical-align: top;\n",
              "    }\n",
              "\n",
              "    .dataframe thead th {\n",
              "        text-align: right;\n",
              "    }\n",
              "</style>\n",
              "<table border=\"1\" class=\"dataframe\">\n",
              "  <thead>\n",
              "    <tr style=\"text-align: right;\">\n",
              "      <th></th>\n",
              "      <th>0</th>\n",
              "      <th>1</th>\n",
              "      <th>2</th>\n",
              "      <th>3</th>\n",
              "      <th>4</th>\n",
              "    </tr>\n",
              "  </thead>\n",
              "  <tbody>\n",
              "    <tr>\n",
              "      <th>0</th>\n",
              "      <td>0.027228</td>\n",
              "      <td>0.666015</td>\n",
              "      <td>0.691141</td>\n",
              "      <td>1.222459</td>\n",
              "      <td>2.035716</td>\n",
              "    </tr>\n",
              "    <tr>\n",
              "      <th>1</th>\n",
              "      <td>0.924913</td>\n",
              "      <td>1.496720</td>\n",
              "      <td>2.308465</td>\n",
              "      <td>2.453603</td>\n",
              "      <td>2.652334</td>\n",
              "    </tr>\n",
              "    <tr>\n",
              "      <th>2</th>\n",
              "      <td>0.743091</td>\n",
              "      <td>1.097232</td>\n",
              "      <td>1.898509</td>\n",
              "      <td>2.129284</td>\n",
              "      <td>2.313428</td>\n",
              "    </tr>\n",
              "    <tr>\n",
              "      <th>3</th>\n",
              "      <td>0.996578</td>\n",
              "      <td>1.050483</td>\n",
              "      <td>1.923649</td>\n",
              "      <td>2.283833</td>\n",
              "      <td>2.483597</td>\n",
              "    </tr>\n",
              "    <tr>\n",
              "      <th>4</th>\n",
              "      <td>0.025514</td>\n",
              "      <td>0.343451</td>\n",
              "      <td>0.962656</td>\n",
              "      <td>1.568642</td>\n",
              "      <td>1.960137</td>\n",
              "    </tr>\n",
              "    <tr>\n",
              "      <th>5</th>\n",
              "      <td>0.751050</td>\n",
              "      <td>1.466419</td>\n",
              "      <td>2.188705</td>\n",
              "      <td>3.116192</td>\n",
              "      <td>3.380393</td>\n",
              "    </tr>\n",
              "    <tr>\n",
              "      <th>6</th>\n",
              "      <td>0.514510</td>\n",
              "      <td>0.982456</td>\n",
              "      <td>1.267609</td>\n",
              "      <td>1.269565</td>\n",
              "      <td>1.328835</td>\n",
              "    </tr>\n",
              "    <tr>\n",
              "      <th>7</th>\n",
              "      <td>0.468424</td>\n",
              "      <td>1.222637</td>\n",
              "      <td>1.263959</td>\n",
              "      <td>2.128896</td>\n",
              "      <td>2.333913</td>\n",
              "    </tr>\n",
              "    <tr>\n",
              "      <th>8</th>\n",
              "      <td>0.890418</td>\n",
              "      <td>1.261752</td>\n",
              "      <td>1.737355</td>\n",
              "      <td>2.154253</td>\n",
              "      <td>2.362726</td>\n",
              "    </tr>\n",
              "    <tr>\n",
              "      <th>9</th>\n",
              "      <td>0.116247</td>\n",
              "      <td>0.752453</td>\n",
              "      <td>1.405907</td>\n",
              "      <td>1.954878</td>\n",
              "      <td>2.317571</td>\n",
              "    </tr>\n",
              "  </tbody>\n",
              "</table>\n",
              "</div>"
            ],
            "text/plain": [
              "          0         1         2         3         4\n",
              "0  0.027228  0.666015  0.691141  1.222459  2.035716\n",
              "1  0.924913  1.496720  2.308465  2.453603  2.652334\n",
              "2  0.743091  1.097232  1.898509  2.129284  2.313428\n",
              "3  0.996578  1.050483  1.923649  2.283833  2.483597\n",
              "4  0.025514  0.343451  0.962656  1.568642  1.960137\n",
              "5  0.751050  1.466419  2.188705  3.116192  3.380393\n",
              "6  0.514510  0.982456  1.267609  1.269565  1.328835\n",
              "7  0.468424  1.222637  1.263959  2.128896  2.333913\n",
              "8  0.890418  1.261752  1.737355  2.154253  2.362726\n",
              "9  0.116247  0.752453  1.405907  1.954878  2.317571"
            ]
          },
          "execution_count": 131,
          "metadata": {},
          "output_type": "execute_result"
        }
      ],
      "source": [
        "df.cumsum(axis=ax1)"
      ]
    },
    {
      "cell_type": "markdown",
      "metadata": {},
      "source": [
        "## cumin, cumax"
      ]
    },
    {
      "cell_type": "code",
      "execution_count": 132,
      "metadata": {},
      "outputs": [
        {
          "data": {
            "text/html": [
              "<div>\n",
              "<style scoped>\n",
              "    .dataframe tbody tr th:only-of-type {\n",
              "        vertical-align: middle;\n",
              "    }\n",
              "\n",
              "    .dataframe tbody tr th {\n",
              "        vertical-align: top;\n",
              "    }\n",
              "\n",
              "    .dataframe thead th {\n",
              "        text-align: right;\n",
              "    }\n",
              "</style>\n",
              "<table border=\"1\" class=\"dataframe\">\n",
              "  <thead>\n",
              "    <tr style=\"text-align: right;\">\n",
              "      <th></th>\n",
              "      <th>0</th>\n",
              "      <th>1</th>\n",
              "      <th>2</th>\n",
              "      <th>3</th>\n",
              "      <th>4</th>\n",
              "    </tr>\n",
              "  </thead>\n",
              "  <tbody>\n",
              "    <tr>\n",
              "      <th>0</th>\n",
              "      <td>0.027228</td>\n",
              "      <td>0.638787</td>\n",
              "      <td>0.025126</td>\n",
              "      <td>0.531318</td>\n",
              "      <td>0.813257</td>\n",
              "    </tr>\n",
              "    <tr>\n",
              "      <th>1</th>\n",
              "      <td>0.027228</td>\n",
              "      <td>0.571807</td>\n",
              "      <td>0.025126</td>\n",
              "      <td>0.145138</td>\n",
              "      <td>0.198732</td>\n",
              "    </tr>\n",
              "    <tr>\n",
              "      <th>2</th>\n",
              "      <td>0.027228</td>\n",
              "      <td>0.354141</td>\n",
              "      <td>0.025126</td>\n",
              "      <td>0.145138</td>\n",
              "      <td>0.184145</td>\n",
              "    </tr>\n",
              "    <tr>\n",
              "      <th>3</th>\n",
              "      <td>0.027228</td>\n",
              "      <td>0.053905</td>\n",
              "      <td>0.025126</td>\n",
              "      <td>0.145138</td>\n",
              "      <td>0.184145</td>\n",
              "    </tr>\n",
              "    <tr>\n",
              "      <th>4</th>\n",
              "      <td>0.025514</td>\n",
              "      <td>0.053905</td>\n",
              "      <td>0.025126</td>\n",
              "      <td>0.145138</td>\n",
              "      <td>0.184145</td>\n",
              "    </tr>\n",
              "    <tr>\n",
              "      <th>5</th>\n",
              "      <td>0.025514</td>\n",
              "      <td>0.053905</td>\n",
              "      <td>0.025126</td>\n",
              "      <td>0.145138</td>\n",
              "      <td>0.184145</td>\n",
              "    </tr>\n",
              "    <tr>\n",
              "      <th>6</th>\n",
              "      <td>0.025514</td>\n",
              "      <td>0.053905</td>\n",
              "      <td>0.025126</td>\n",
              "      <td>0.001956</td>\n",
              "      <td>0.059270</td>\n",
              "    </tr>\n",
              "    <tr>\n",
              "      <th>7</th>\n",
              "      <td>0.025514</td>\n",
              "      <td>0.053905</td>\n",
              "      <td>0.025126</td>\n",
              "      <td>0.001956</td>\n",
              "      <td>0.059270</td>\n",
              "    </tr>\n",
              "    <tr>\n",
              "      <th>8</th>\n",
              "      <td>0.025514</td>\n",
              "      <td>0.053905</td>\n",
              "      <td>0.025126</td>\n",
              "      <td>0.001956</td>\n",
              "      <td>0.059270</td>\n",
              "    </tr>\n",
              "    <tr>\n",
              "      <th>9</th>\n",
              "      <td>0.025514</td>\n",
              "      <td>0.053905</td>\n",
              "      <td>0.025126</td>\n",
              "      <td>0.001956</td>\n",
              "      <td>0.059270</td>\n",
              "    </tr>\n",
              "  </tbody>\n",
              "</table>\n",
              "</div>"
            ],
            "text/plain": [
              "          0         1         2         3         4\n",
              "0  0.027228  0.638787  0.025126  0.531318  0.813257\n",
              "1  0.027228  0.571807  0.025126  0.145138  0.198732\n",
              "2  0.027228  0.354141  0.025126  0.145138  0.184145\n",
              "3  0.027228  0.053905  0.025126  0.145138  0.184145\n",
              "4  0.025514  0.053905  0.025126  0.145138  0.184145\n",
              "5  0.025514  0.053905  0.025126  0.145138  0.184145\n",
              "6  0.025514  0.053905  0.025126  0.001956  0.059270\n",
              "7  0.025514  0.053905  0.025126  0.001956  0.059270\n",
              "8  0.025514  0.053905  0.025126  0.001956  0.059270\n",
              "9  0.025514  0.053905  0.025126  0.001956  0.059270"
            ]
          },
          "metadata": {},
          "output_type": "display_data"
        },
        {
          "data": {
            "text/html": [
              "<div>\n",
              "<style scoped>\n",
              "    .dataframe tbody tr th:only-of-type {\n",
              "        vertical-align: middle;\n",
              "    }\n",
              "\n",
              "    .dataframe tbody tr th {\n",
              "        vertical-align: top;\n",
              "    }\n",
              "\n",
              "    .dataframe thead th {\n",
              "        text-align: right;\n",
              "    }\n",
              "</style>\n",
              "<table border=\"1\" class=\"dataframe\">\n",
              "  <thead>\n",
              "    <tr style=\"text-align: right;\">\n",
              "      <th></th>\n",
              "      <th>0</th>\n",
              "      <th>1</th>\n",
              "      <th>2</th>\n",
              "      <th>3</th>\n",
              "      <th>4</th>\n",
              "    </tr>\n",
              "  </thead>\n",
              "  <tbody>\n",
              "    <tr>\n",
              "      <th>0</th>\n",
              "      <td>0.027228</td>\n",
              "      <td>0.638787</td>\n",
              "      <td>0.025126</td>\n",
              "      <td>0.531318</td>\n",
              "      <td>0.813257</td>\n",
              "    </tr>\n",
              "    <tr>\n",
              "      <th>1</th>\n",
              "      <td>0.924913</td>\n",
              "      <td>0.638787</td>\n",
              "      <td>0.811745</td>\n",
              "      <td>0.531318</td>\n",
              "      <td>0.813257</td>\n",
              "    </tr>\n",
              "    <tr>\n",
              "      <th>2</th>\n",
              "      <td>0.924913</td>\n",
              "      <td>0.638787</td>\n",
              "      <td>0.811745</td>\n",
              "      <td>0.531318</td>\n",
              "      <td>0.813257</td>\n",
              "    </tr>\n",
              "    <tr>\n",
              "      <th>3</th>\n",
              "      <td>0.996578</td>\n",
              "      <td>0.638787</td>\n",
              "      <td>0.873166</td>\n",
              "      <td>0.531318</td>\n",
              "      <td>0.813257</td>\n",
              "    </tr>\n",
              "    <tr>\n",
              "      <th>4</th>\n",
              "      <td>0.996578</td>\n",
              "      <td>0.638787</td>\n",
              "      <td>0.873166</td>\n",
              "      <td>0.605986</td>\n",
              "      <td>0.813257</td>\n",
              "    </tr>\n",
              "    <tr>\n",
              "      <th>5</th>\n",
              "      <td>0.996578</td>\n",
              "      <td>0.715369</td>\n",
              "      <td>0.873166</td>\n",
              "      <td>0.927487</td>\n",
              "      <td>0.813257</td>\n",
              "    </tr>\n",
              "    <tr>\n",
              "      <th>6</th>\n",
              "      <td>0.996578</td>\n",
              "      <td>0.715369</td>\n",
              "      <td>0.873166</td>\n",
              "      <td>0.927487</td>\n",
              "      <td>0.813257</td>\n",
              "    </tr>\n",
              "    <tr>\n",
              "      <th>7</th>\n",
              "      <td>0.996578</td>\n",
              "      <td>0.754213</td>\n",
              "      <td>0.873166</td>\n",
              "      <td>0.927487</td>\n",
              "      <td>0.813257</td>\n",
              "    </tr>\n",
              "    <tr>\n",
              "      <th>8</th>\n",
              "      <td>0.996578</td>\n",
              "      <td>0.754213</td>\n",
              "      <td>0.873166</td>\n",
              "      <td>0.927487</td>\n",
              "      <td>0.813257</td>\n",
              "    </tr>\n",
              "    <tr>\n",
              "      <th>9</th>\n",
              "      <td>0.996578</td>\n",
              "      <td>0.754213</td>\n",
              "      <td>0.873166</td>\n",
              "      <td>0.927487</td>\n",
              "      <td>0.813257</td>\n",
              "    </tr>\n",
              "  </tbody>\n",
              "</table>\n",
              "</div>"
            ],
            "text/plain": [
              "          0         1         2         3         4\n",
              "0  0.027228  0.638787  0.025126  0.531318  0.813257\n",
              "1  0.924913  0.638787  0.811745  0.531318  0.813257\n",
              "2  0.924913  0.638787  0.811745  0.531318  0.813257\n",
              "3  0.996578  0.638787  0.873166  0.531318  0.813257\n",
              "4  0.996578  0.638787  0.873166  0.605986  0.813257\n",
              "5  0.996578  0.715369  0.873166  0.927487  0.813257\n",
              "6  0.996578  0.715369  0.873166  0.927487  0.813257\n",
              "7  0.996578  0.754213  0.873166  0.927487  0.813257\n",
              "8  0.996578  0.754213  0.873166  0.927487  0.813257\n",
              "9  0.996578  0.754213  0.873166  0.927487  0.813257"
            ]
          },
          "metadata": {},
          "output_type": "display_data"
        }
      ],
      "source": [
        "display(df.cummin())\n",
        "display(df.cummax())"
      ]
    },
    {
      "cell_type": "code",
      "execution_count": 133,
      "metadata": {},
      "outputs": [
        {
          "data": {
            "text/html": [
              "<div>\n",
              "<style scoped>\n",
              "    .dataframe tbody tr th:only-of-type {\n",
              "        vertical-align: middle;\n",
              "    }\n",
              "\n",
              "    .dataframe tbody tr th {\n",
              "        vertical-align: top;\n",
              "    }\n",
              "\n",
              "    .dataframe thead th {\n",
              "        text-align: right;\n",
              "    }\n",
              "</style>\n",
              "<table border=\"1\" class=\"dataframe\">\n",
              "  <thead>\n",
              "    <tr style=\"text-align: right;\">\n",
              "      <th></th>\n",
              "      <th>0</th>\n",
              "      <th>1</th>\n",
              "      <th>2</th>\n",
              "      <th>3</th>\n",
              "      <th>4</th>\n",
              "    </tr>\n",
              "  </thead>\n",
              "  <tbody>\n",
              "    <tr>\n",
              "      <th>0</th>\n",
              "      <td>0.027228</td>\n",
              "      <td>0.027228</td>\n",
              "      <td>0.025126</td>\n",
              "      <td>0.025126</td>\n",
              "      <td>0.025126</td>\n",
              "    </tr>\n",
              "    <tr>\n",
              "      <th>1</th>\n",
              "      <td>0.924913</td>\n",
              "      <td>0.571807</td>\n",
              "      <td>0.571807</td>\n",
              "      <td>0.145138</td>\n",
              "      <td>0.145138</td>\n",
              "    </tr>\n",
              "    <tr>\n",
              "      <th>2</th>\n",
              "      <td>0.743091</td>\n",
              "      <td>0.354141</td>\n",
              "      <td>0.354141</td>\n",
              "      <td>0.230774</td>\n",
              "      <td>0.184145</td>\n",
              "    </tr>\n",
              "    <tr>\n",
              "      <th>3</th>\n",
              "      <td>0.996578</td>\n",
              "      <td>0.053905</td>\n",
              "      <td>0.053905</td>\n",
              "      <td>0.053905</td>\n",
              "      <td>0.053905</td>\n",
              "    </tr>\n",
              "    <tr>\n",
              "      <th>4</th>\n",
              "      <td>0.025514</td>\n",
              "      <td>0.025514</td>\n",
              "      <td>0.025514</td>\n",
              "      <td>0.025514</td>\n",
              "      <td>0.025514</td>\n",
              "    </tr>\n",
              "    <tr>\n",
              "      <th>5</th>\n",
              "      <td>0.751050</td>\n",
              "      <td>0.715369</td>\n",
              "      <td>0.715369</td>\n",
              "      <td>0.715369</td>\n",
              "      <td>0.264201</td>\n",
              "    </tr>\n",
              "    <tr>\n",
              "      <th>6</th>\n",
              "      <td>0.514510</td>\n",
              "      <td>0.467947</td>\n",
              "      <td>0.285153</td>\n",
              "      <td>0.001956</td>\n",
              "      <td>0.001956</td>\n",
              "    </tr>\n",
              "    <tr>\n",
              "      <th>7</th>\n",
              "      <td>0.468424</td>\n",
              "      <td>0.468424</td>\n",
              "      <td>0.041322</td>\n",
              "      <td>0.041322</td>\n",
              "      <td>0.041322</td>\n",
              "    </tr>\n",
              "    <tr>\n",
              "      <th>8</th>\n",
              "      <td>0.890418</td>\n",
              "      <td>0.371334</td>\n",
              "      <td>0.371334</td>\n",
              "      <td>0.371334</td>\n",
              "      <td>0.208473</td>\n",
              "    </tr>\n",
              "    <tr>\n",
              "      <th>9</th>\n",
              "      <td>0.116247</td>\n",
              "      <td>0.116247</td>\n",
              "      <td>0.116247</td>\n",
              "      <td>0.116247</td>\n",
              "      <td>0.116247</td>\n",
              "    </tr>\n",
              "  </tbody>\n",
              "</table>\n",
              "</div>"
            ],
            "text/plain": [
              "          0         1         2         3         4\n",
              "0  0.027228  0.027228  0.025126  0.025126  0.025126\n",
              "1  0.924913  0.571807  0.571807  0.145138  0.145138\n",
              "2  0.743091  0.354141  0.354141  0.230774  0.184145\n",
              "3  0.996578  0.053905  0.053905  0.053905  0.053905\n",
              "4  0.025514  0.025514  0.025514  0.025514  0.025514\n",
              "5  0.751050  0.715369  0.715369  0.715369  0.264201\n",
              "6  0.514510  0.467947  0.285153  0.001956  0.001956\n",
              "7  0.468424  0.468424  0.041322  0.041322  0.041322\n",
              "8  0.890418  0.371334  0.371334  0.371334  0.208473\n",
              "9  0.116247  0.116247  0.116247  0.116247  0.116247"
            ]
          },
          "metadata": {},
          "output_type": "display_data"
        },
        {
          "data": {
            "text/html": [
              "<div>\n",
              "<style scoped>\n",
              "    .dataframe tbody tr th:only-of-type {\n",
              "        vertical-align: middle;\n",
              "    }\n",
              "\n",
              "    .dataframe tbody tr th {\n",
              "        vertical-align: top;\n",
              "    }\n",
              "\n",
              "    .dataframe thead th {\n",
              "        text-align: right;\n",
              "    }\n",
              "</style>\n",
              "<table border=\"1\" class=\"dataframe\">\n",
              "  <thead>\n",
              "    <tr style=\"text-align: right;\">\n",
              "      <th></th>\n",
              "      <th>0</th>\n",
              "      <th>1</th>\n",
              "      <th>2</th>\n",
              "      <th>3</th>\n",
              "      <th>4</th>\n",
              "    </tr>\n",
              "  </thead>\n",
              "  <tbody>\n",
              "    <tr>\n",
              "      <th>0</th>\n",
              "      <td>0.027228</td>\n",
              "      <td>0.638787</td>\n",
              "      <td>0.638787</td>\n",
              "      <td>0.638787</td>\n",
              "      <td>0.813257</td>\n",
              "    </tr>\n",
              "    <tr>\n",
              "      <th>1</th>\n",
              "      <td>0.924913</td>\n",
              "      <td>0.924913</td>\n",
              "      <td>0.924913</td>\n",
              "      <td>0.924913</td>\n",
              "      <td>0.924913</td>\n",
              "    </tr>\n",
              "    <tr>\n",
              "      <th>2</th>\n",
              "      <td>0.743091</td>\n",
              "      <td>0.743091</td>\n",
              "      <td>0.801277</td>\n",
              "      <td>0.801277</td>\n",
              "      <td>0.801277</td>\n",
              "    </tr>\n",
              "    <tr>\n",
              "      <th>3</th>\n",
              "      <td>0.996578</td>\n",
              "      <td>0.996578</td>\n",
              "      <td>0.996578</td>\n",
              "      <td>0.996578</td>\n",
              "      <td>0.996578</td>\n",
              "    </tr>\n",
              "    <tr>\n",
              "      <th>4</th>\n",
              "      <td>0.025514</td>\n",
              "      <td>0.317937</td>\n",
              "      <td>0.619205</td>\n",
              "      <td>0.619205</td>\n",
              "      <td>0.619205</td>\n",
              "    </tr>\n",
              "    <tr>\n",
              "      <th>5</th>\n",
              "      <td>0.751050</td>\n",
              "      <td>0.751050</td>\n",
              "      <td>0.751050</td>\n",
              "      <td>0.927487</td>\n",
              "      <td>0.927487</td>\n",
              "    </tr>\n",
              "    <tr>\n",
              "      <th>6</th>\n",
              "      <td>0.514510</td>\n",
              "      <td>0.514510</td>\n",
              "      <td>0.514510</td>\n",
              "      <td>0.514510</td>\n",
              "      <td>0.514510</td>\n",
              "    </tr>\n",
              "    <tr>\n",
              "      <th>7</th>\n",
              "      <td>0.468424</td>\n",
              "      <td>0.754213</td>\n",
              "      <td>0.754213</td>\n",
              "      <td>0.864937</td>\n",
              "      <td>0.864937</td>\n",
              "    </tr>\n",
              "    <tr>\n",
              "      <th>8</th>\n",
              "      <td>0.890418</td>\n",
              "      <td>0.890418</td>\n",
              "      <td>0.890418</td>\n",
              "      <td>0.890418</td>\n",
              "      <td>0.890418</td>\n",
              "    </tr>\n",
              "    <tr>\n",
              "      <th>9</th>\n",
              "      <td>0.116247</td>\n",
              "      <td>0.636207</td>\n",
              "      <td>0.653453</td>\n",
              "      <td>0.653453</td>\n",
              "      <td>0.653453</td>\n",
              "    </tr>\n",
              "  </tbody>\n",
              "</table>\n",
              "</div>"
            ],
            "text/plain": [
              "          0         1         2         3         4\n",
              "0  0.027228  0.638787  0.638787  0.638787  0.813257\n",
              "1  0.924913  0.924913  0.924913  0.924913  0.924913\n",
              "2  0.743091  0.743091  0.801277  0.801277  0.801277\n",
              "3  0.996578  0.996578  0.996578  0.996578  0.996578\n",
              "4  0.025514  0.317937  0.619205  0.619205  0.619205\n",
              "5  0.751050  0.751050  0.751050  0.927487  0.927487\n",
              "6  0.514510  0.514510  0.514510  0.514510  0.514510\n",
              "7  0.468424  0.754213  0.754213  0.864937  0.864937\n",
              "8  0.890418  0.890418  0.890418  0.890418  0.890418\n",
              "9  0.116247  0.636207  0.653453  0.653453  0.653453"
            ]
          },
          "metadata": {},
          "output_type": "display_data"
        }
      ],
      "source": [
        "display(df.cummin(axis=ax1))\n",
        "display(df.cummax(axis=ax1))"
      ]
    },
    {
      "cell_type": "markdown",
      "metadata": {},
      "source": [
        "## cumprod"
      ]
    },
    {
      "cell_type": "code",
      "execution_count": 134,
      "metadata": {},
      "outputs": [
        {
          "data": {
            "text/html": [
              "<div>\n",
              "<style scoped>\n",
              "    .dataframe tbody tr th:only-of-type {\n",
              "        vertical-align: middle;\n",
              "    }\n",
              "\n",
              "    .dataframe tbody tr th {\n",
              "        vertical-align: top;\n",
              "    }\n",
              "\n",
              "    .dataframe thead th {\n",
              "        text-align: right;\n",
              "    }\n",
              "</style>\n",
              "<table border=\"1\" class=\"dataframe\">\n",
              "  <thead>\n",
              "    <tr style=\"text-align: right;\">\n",
              "      <th></th>\n",
              "      <th>0</th>\n",
              "      <th>1</th>\n",
              "      <th>2</th>\n",
              "      <th>3</th>\n",
              "      <th>4</th>\n",
              "    </tr>\n",
              "  </thead>\n",
              "  <tbody>\n",
              "    <tr>\n",
              "      <th>0</th>\n",
              "      <td>0.027228</td>\n",
              "      <td>0.638787</td>\n",
              "      <td>0.025126</td>\n",
              "      <td>0.531318</td>\n",
              "      <td>8.132565e-01</td>\n",
              "    </tr>\n",
              "    <tr>\n",
              "      <th>1</th>\n",
              "      <td>0.025184</td>\n",
              "      <td>0.365263</td>\n",
              "      <td>0.020396</td>\n",
              "      <td>0.077114</td>\n",
              "      <td>1.616197e-01</td>\n",
              "    </tr>\n",
              "    <tr>\n",
              "      <th>2</th>\n",
              "      <td>0.018714</td>\n",
              "      <td>0.129355</td>\n",
              "      <td>0.016343</td>\n",
              "      <td>0.017796</td>\n",
              "      <td>2.976139e-02</td>\n",
              "    </tr>\n",
              "    <tr>\n",
              "      <th>3</th>\n",
              "      <td>0.018650</td>\n",
              "      <td>0.006973</td>\n",
              "      <td>0.014270</td>\n",
              "      <td>0.006410</td>\n",
              "      <td>5.945266e-03</td>\n",
              "    </tr>\n",
              "    <tr>\n",
              "      <th>4</th>\n",
              "      <td>0.000476</td>\n",
              "      <td>0.002217</td>\n",
              "      <td>0.008836</td>\n",
              "      <td>0.003884</td>\n",
              "      <td>2.327538e-03</td>\n",
              "    </tr>\n",
              "    <tr>\n",
              "      <th>5</th>\n",
              "      <td>0.000357</td>\n",
              "      <td>0.001586</td>\n",
              "      <td>0.006382</td>\n",
              "      <td>0.003603</td>\n",
              "      <td>6.149376e-04</td>\n",
              "    </tr>\n",
              "    <tr>\n",
              "      <th>6</th>\n",
              "      <td>0.000184</td>\n",
              "      <td>0.000742</td>\n",
              "      <td>0.001820</td>\n",
              "      <td>0.000007</td>\n",
              "      <td>3.644762e-05</td>\n",
              "    </tr>\n",
              "    <tr>\n",
              "      <th>7</th>\n",
              "      <td>0.000086</td>\n",
              "      <td>0.000560</td>\n",
              "      <td>0.000075</td>\n",
              "      <td>0.000006</td>\n",
              "      <td>7.472382e-06</td>\n",
              "    </tr>\n",
              "    <tr>\n",
              "      <th>8</th>\n",
              "      <td>0.000077</td>\n",
              "      <td>0.000208</td>\n",
              "      <td>0.000036</td>\n",
              "      <td>0.000003</td>\n",
              "      <td>1.557787e-06</td>\n",
              "    </tr>\n",
              "    <tr>\n",
              "      <th>9</th>\n",
              "      <td>0.000009</td>\n",
              "      <td>0.000132</td>\n",
              "      <td>0.000023</td>\n",
              "      <td>0.000001</td>\n",
              "      <td>5.649977e-07</td>\n",
              "    </tr>\n",
              "  </tbody>\n",
              "</table>\n",
              "</div>"
            ],
            "text/plain": [
              "          0         1         2         3             4\n",
              "0  0.027228  0.638787  0.025126  0.531318  8.132565e-01\n",
              "1  0.025184  0.365263  0.020396  0.077114  1.616197e-01\n",
              "2  0.018714  0.129355  0.016343  0.017796  2.976139e-02\n",
              "3  0.018650  0.006973  0.014270  0.006410  5.945266e-03\n",
              "4  0.000476  0.002217  0.008836  0.003884  2.327538e-03\n",
              "5  0.000357  0.001586  0.006382  0.003603  6.149376e-04\n",
              "6  0.000184  0.000742  0.001820  0.000007  3.644762e-05\n",
              "7  0.000086  0.000560  0.000075  0.000006  7.472382e-06\n",
              "8  0.000077  0.000208  0.000036  0.000003  1.557787e-06\n",
              "9  0.000009  0.000132  0.000023  0.000001  5.649977e-07"
            ]
          },
          "execution_count": 134,
          "metadata": {},
          "output_type": "execute_result"
        }
      ],
      "source": [
        "df.cumprod()"
      ]
    },
    {
      "cell_type": "code",
      "execution_count": 135,
      "metadata": {},
      "outputs": [
        {
          "data": {
            "text/html": [
              "<div>\n",
              "<style scoped>\n",
              "    .dataframe tbody tr th:only-of-type {\n",
              "        vertical-align: middle;\n",
              "    }\n",
              "\n",
              "    .dataframe tbody tr th {\n",
              "        vertical-align: top;\n",
              "    }\n",
              "\n",
              "    .dataframe thead th {\n",
              "        text-align: right;\n",
              "    }\n",
              "</style>\n",
              "<table border=\"1\" class=\"dataframe\">\n",
              "  <thead>\n",
              "    <tr style=\"text-align: right;\">\n",
              "      <th></th>\n",
              "      <th>0</th>\n",
              "      <th>1</th>\n",
              "      <th>2</th>\n",
              "      <th>3</th>\n",
              "      <th>4</th>\n",
              "    </tr>\n",
              "  </thead>\n",
              "  <tbody>\n",
              "    <tr>\n",
              "      <th>0</th>\n",
              "      <td>0.027228</td>\n",
              "      <td>0.017393</td>\n",
              "      <td>0.000437</td>\n",
              "      <td>0.000232</td>\n",
              "      <td>0.000189</td>\n",
              "    </tr>\n",
              "    <tr>\n",
              "      <th>1</th>\n",
              "      <td>0.924913</td>\n",
              "      <td>0.528871</td>\n",
              "      <td>0.429309</td>\n",
              "      <td>0.062309</td>\n",
              "      <td>0.012383</td>\n",
              "    </tr>\n",
              "    <tr>\n",
              "      <th>2</th>\n",
              "      <td>0.743091</td>\n",
              "      <td>0.263159</td>\n",
              "      <td>0.210863</td>\n",
              "      <td>0.048662</td>\n",
              "      <td>0.008961</td>\n",
              "    </tr>\n",
              "    <tr>\n",
              "      <th>3</th>\n",
              "      <td>0.996578</td>\n",
              "      <td>0.053721</td>\n",
              "      <td>0.046907</td>\n",
              "      <td>0.016895</td>\n",
              "      <td>0.003375</td>\n",
              "    </tr>\n",
              "    <tr>\n",
              "      <th>4</th>\n",
              "      <td>0.025514</td>\n",
              "      <td>0.008112</td>\n",
              "      <td>0.005023</td>\n",
              "      <td>0.003044</td>\n",
              "      <td>0.001192</td>\n",
              "    </tr>\n",
              "    <tr>\n",
              "      <th>5</th>\n",
              "      <td>0.751050</td>\n",
              "      <td>0.537278</td>\n",
              "      <td>0.388068</td>\n",
              "      <td>0.359928</td>\n",
              "      <td>0.095093</td>\n",
              "    </tr>\n",
              "    <tr>\n",
              "      <th>6</th>\n",
              "      <td>0.514510</td>\n",
              "      <td>0.240763</td>\n",
              "      <td>0.068654</td>\n",
              "      <td>0.000134</td>\n",
              "      <td>0.000008</td>\n",
              "    </tr>\n",
              "    <tr>\n",
              "      <th>7</th>\n",
              "      <td>0.468424</td>\n",
              "      <td>0.353291</td>\n",
              "      <td>0.014599</td>\n",
              "      <td>0.012627</td>\n",
              "      <td>0.002589</td>\n",
              "    </tr>\n",
              "    <tr>\n",
              "      <th>8</th>\n",
              "      <td>0.890418</td>\n",
              "      <td>0.330642</td>\n",
              "      <td>0.157254</td>\n",
              "      <td>0.065559</td>\n",
              "      <td>0.013667</td>\n",
              "    </tr>\n",
              "    <tr>\n",
              "      <th>9</th>\n",
              "      <td>0.116247</td>\n",
              "      <td>0.073957</td>\n",
              "      <td>0.048327</td>\n",
              "      <td>0.026530</td>\n",
              "      <td>0.009622</td>\n",
              "    </tr>\n",
              "  </tbody>\n",
              "</table>\n",
              "</div>"
            ],
            "text/plain": [
              "          0         1         2         3         4\n",
              "0  0.027228  0.017393  0.000437  0.000232  0.000189\n",
              "1  0.924913  0.528871  0.429309  0.062309  0.012383\n",
              "2  0.743091  0.263159  0.210863  0.048662  0.008961\n",
              "3  0.996578  0.053721  0.046907  0.016895  0.003375\n",
              "4  0.025514  0.008112  0.005023  0.003044  0.001192\n",
              "5  0.751050  0.537278  0.388068  0.359928  0.095093\n",
              "6  0.514510  0.240763  0.068654  0.000134  0.000008\n",
              "7  0.468424  0.353291  0.014599  0.012627  0.002589\n",
              "8  0.890418  0.330642  0.157254  0.065559  0.013667\n",
              "9  0.116247  0.073957  0.048327  0.026530  0.009622"
            ]
          },
          "execution_count": 135,
          "metadata": {},
          "output_type": "execute_result"
        }
      ],
      "source": [
        "df.cumprod(axis=ax1)"
      ]
    },
    {
      "cell_type": "markdown",
      "metadata": {},
      "source": [
        "## diff"
      ]
    },
    {
      "cell_type": "code",
      "execution_count": 136,
      "metadata": {},
      "outputs": [
        {
          "data": {
            "text/html": [
              "<div>\n",
              "<style scoped>\n",
              "    .dataframe tbody tr th:only-of-type {\n",
              "        vertical-align: middle;\n",
              "    }\n",
              "\n",
              "    .dataframe tbody tr th {\n",
              "        vertical-align: top;\n",
              "    }\n",
              "\n",
              "    .dataframe thead th {\n",
              "        text-align: right;\n",
              "    }\n",
              "</style>\n",
              "<table border=\"1\" class=\"dataframe\">\n",
              "  <thead>\n",
              "    <tr style=\"text-align: right;\">\n",
              "      <th></th>\n",
              "      <th>0</th>\n",
              "      <th>1</th>\n",
              "      <th>2</th>\n",
              "      <th>3</th>\n",
              "      <th>4</th>\n",
              "    </tr>\n",
              "  </thead>\n",
              "  <tbody>\n",
              "    <tr>\n",
              "      <th>0</th>\n",
              "      <td>NaN</td>\n",
              "      <td>NaN</td>\n",
              "      <td>NaN</td>\n",
              "      <td>NaN</td>\n",
              "      <td>NaN</td>\n",
              "    </tr>\n",
              "    <tr>\n",
              "      <th>1</th>\n",
              "      <td>0.897685</td>\n",
              "      <td>-0.066981</td>\n",
              "      <td>0.786620</td>\n",
              "      <td>-0.386180</td>\n",
              "      <td>-0.614525</td>\n",
              "    </tr>\n",
              "    <tr>\n",
              "      <th>2</th>\n",
              "      <td>-0.181822</td>\n",
              "      <td>-0.217666</td>\n",
              "      <td>-0.010468</td>\n",
              "      <td>0.085637</td>\n",
              "      <td>-0.014587</td>\n",
              "    </tr>\n",
              "    <tr>\n",
              "      <th>3</th>\n",
              "      <td>0.253487</td>\n",
              "      <td>-0.300236</td>\n",
              "      <td>0.071889</td>\n",
              "      <td>0.129409</td>\n",
              "      <td>0.015620</td>\n",
              "    </tr>\n",
              "    <tr>\n",
              "      <th>4</th>\n",
              "      <td>-0.971064</td>\n",
              "      <td>0.264032</td>\n",
              "      <td>-0.253961</td>\n",
              "      <td>0.245803</td>\n",
              "      <td>0.191730</td>\n",
              "    </tr>\n",
              "    <tr>\n",
              "      <th>5</th>\n",
              "      <td>0.725537</td>\n",
              "      <td>0.397432</td>\n",
              "      <td>0.103081</td>\n",
              "      <td>0.321501</td>\n",
              "      <td>-0.127293</td>\n",
              "    </tr>\n",
              "    <tr>\n",
              "      <th>6</th>\n",
              "      <td>-0.236541</td>\n",
              "      <td>-0.247423</td>\n",
              "      <td>-0.437133</td>\n",
              "      <td>-0.925531</td>\n",
              "      <td>-0.204930</td>\n",
              "    </tr>\n",
              "    <tr>\n",
              "      <th>7</th>\n",
              "      <td>-0.046086</td>\n",
              "      <td>0.286267</td>\n",
              "      <td>-0.243831</td>\n",
              "      <td>0.862982</td>\n",
              "      <td>0.145747</td>\n",
              "    </tr>\n",
              "    <tr>\n",
              "      <th>8</th>\n",
              "      <td>0.421994</td>\n",
              "      <td>-0.382880</td>\n",
              "      <td>0.434281</td>\n",
              "      <td>-0.448039</td>\n",
              "      <td>0.003456</td>\n",
              "    </tr>\n",
              "    <tr>\n",
              "      <th>9</th>\n",
              "      <td>-0.774171</td>\n",
              "      <td>0.264873</td>\n",
              "      <td>0.177850</td>\n",
              "      <td>0.132073</td>\n",
              "      <td>0.154220</td>\n",
              "    </tr>\n",
              "  </tbody>\n",
              "</table>\n",
              "</div>"
            ],
            "text/plain": [
              "          0         1         2         3         4\n",
              "0       NaN       NaN       NaN       NaN       NaN\n",
              "1  0.897685 -0.066981  0.786620 -0.386180 -0.614525\n",
              "2 -0.181822 -0.217666 -0.010468  0.085637 -0.014587\n",
              "3  0.253487 -0.300236  0.071889  0.129409  0.015620\n",
              "4 -0.971064  0.264032 -0.253961  0.245803  0.191730\n",
              "5  0.725537  0.397432  0.103081  0.321501 -0.127293\n",
              "6 -0.236541 -0.247423 -0.437133 -0.925531 -0.204930\n",
              "7 -0.046086  0.286267 -0.243831  0.862982  0.145747\n",
              "8  0.421994 -0.382880  0.434281 -0.448039  0.003456\n",
              "9 -0.774171  0.264873  0.177850  0.132073  0.154220"
            ]
          },
          "execution_count": 136,
          "metadata": {},
          "output_type": "execute_result"
        }
      ],
      "source": [
        "df.diff()"
      ]
    },
    {
      "cell_type": "code",
      "execution_count": 137,
      "metadata": {},
      "outputs": [
        {
          "data": {
            "text/html": [
              "<div>\n",
              "<style scoped>\n",
              "    .dataframe tbody tr th:only-of-type {\n",
              "        vertical-align: middle;\n",
              "    }\n",
              "\n",
              "    .dataframe tbody tr th {\n",
              "        vertical-align: top;\n",
              "    }\n",
              "\n",
              "    .dataframe thead th {\n",
              "        text-align: right;\n",
              "    }\n",
              "</style>\n",
              "<table border=\"1\" class=\"dataframe\">\n",
              "  <thead>\n",
              "    <tr style=\"text-align: right;\">\n",
              "      <th></th>\n",
              "      <th>0</th>\n",
              "      <th>1</th>\n",
              "      <th>2</th>\n",
              "      <th>3</th>\n",
              "      <th>4</th>\n",
              "    </tr>\n",
              "  </thead>\n",
              "  <tbody>\n",
              "    <tr>\n",
              "      <th>0</th>\n",
              "      <td>NaN</td>\n",
              "      <td>0.611559</td>\n",
              "      <td>-0.613662</td>\n",
              "      <td>0.506193</td>\n",
              "      <td>0.281938</td>\n",
              "    </tr>\n",
              "    <tr>\n",
              "      <th>1</th>\n",
              "      <td>NaN</td>\n",
              "      <td>-0.353106</td>\n",
              "      <td>0.239939</td>\n",
              "      <td>-0.666608</td>\n",
              "      <td>0.053594</td>\n",
              "    </tr>\n",
              "    <tr>\n",
              "      <th>2</th>\n",
              "      <td>NaN</td>\n",
              "      <td>-0.388950</td>\n",
              "      <td>0.447136</td>\n",
              "      <td>-0.570503</td>\n",
              "      <td>-0.046630</td>\n",
              "    </tr>\n",
              "    <tr>\n",
              "      <th>3</th>\n",
              "      <td>NaN</td>\n",
              "      <td>-0.942672</td>\n",
              "      <td>0.819261</td>\n",
              "      <td>-0.512982</td>\n",
              "      <td>-0.160419</td>\n",
              "    </tr>\n",
              "    <tr>\n",
              "      <th>4</th>\n",
              "      <td>NaN</td>\n",
              "      <td>0.292424</td>\n",
              "      <td>0.301268</td>\n",
              "      <td>-0.013219</td>\n",
              "      <td>-0.214492</td>\n",
              "    </tr>\n",
              "    <tr>\n",
              "      <th>5</th>\n",
              "      <td>NaN</td>\n",
              "      <td>-0.035681</td>\n",
              "      <td>0.006917</td>\n",
              "      <td>0.205201</td>\n",
              "      <td>-0.663286</td>\n",
              "    </tr>\n",
              "    <tr>\n",
              "      <th>6</th>\n",
              "      <td>NaN</td>\n",
              "      <td>-0.046563</td>\n",
              "      <td>-0.182794</td>\n",
              "      <td>-0.283197</td>\n",
              "      <td>0.057315</td>\n",
              "    </tr>\n",
              "    <tr>\n",
              "      <th>7</th>\n",
              "      <td>NaN</td>\n",
              "      <td>0.285790</td>\n",
              "      <td>-0.712892</td>\n",
              "      <td>0.823616</td>\n",
              "      <td>-0.659920</td>\n",
              "    </tr>\n",
              "    <tr>\n",
              "      <th>8</th>\n",
              "      <td>NaN</td>\n",
              "      <td>-0.519084</td>\n",
              "      <td>0.104269</td>\n",
              "      <td>-0.058704</td>\n",
              "      <td>-0.208426</td>\n",
              "    </tr>\n",
              "    <tr>\n",
              "      <th>9</th>\n",
              "      <td>NaN</td>\n",
              "      <td>0.519960</td>\n",
              "      <td>0.017247</td>\n",
              "      <td>-0.104482</td>\n",
              "      <td>-0.186279</td>\n",
              "    </tr>\n",
              "  </tbody>\n",
              "</table>\n",
              "</div>"
            ],
            "text/plain": [
              "    0         1         2         3         4\n",
              "0 NaN  0.611559 -0.613662  0.506193  0.281938\n",
              "1 NaN -0.353106  0.239939 -0.666608  0.053594\n",
              "2 NaN -0.388950  0.447136 -0.570503 -0.046630\n",
              "3 NaN -0.942672  0.819261 -0.512982 -0.160419\n",
              "4 NaN  0.292424  0.301268 -0.013219 -0.214492\n",
              "5 NaN -0.035681  0.006917  0.205201 -0.663286\n",
              "6 NaN -0.046563 -0.182794 -0.283197  0.057315\n",
              "7 NaN  0.285790 -0.712892  0.823616 -0.659920\n",
              "8 NaN -0.519084  0.104269 -0.058704 -0.208426\n",
              "9 NaN  0.519960  0.017247 -0.104482 -0.186279"
            ]
          },
          "execution_count": 137,
          "metadata": {},
          "output_type": "execute_result"
        }
      ],
      "source": [
        "df.diff(axis=ax1)"
      ]
    },
    {
      "cell_type": "markdown",
      "metadata": {},
      "source": [
        "## pct_change"
      ]
    },
    {
      "cell_type": "code",
      "execution_count": 138,
      "metadata": {},
      "outputs": [
        {
          "data": {
            "text/html": [
              "<div>\n",
              "<style scoped>\n",
              "    .dataframe tbody tr th:only-of-type {\n",
              "        vertical-align: middle;\n",
              "    }\n",
              "\n",
              "    .dataframe tbody tr th {\n",
              "        vertical-align: top;\n",
              "    }\n",
              "\n",
              "    .dataframe thead th {\n",
              "        text-align: right;\n",
              "    }\n",
              "</style>\n",
              "<table border=\"1\" class=\"dataframe\">\n",
              "  <thead>\n",
              "    <tr style=\"text-align: right;\">\n",
              "      <th></th>\n",
              "      <th>0</th>\n",
              "      <th>1</th>\n",
              "      <th>2</th>\n",
              "      <th>3</th>\n",
              "      <th>4</th>\n",
              "    </tr>\n",
              "  </thead>\n",
              "  <tbody>\n",
              "    <tr>\n",
              "      <th>0</th>\n",
              "      <td>NaN</td>\n",
              "      <td>NaN</td>\n",
              "      <td>NaN</td>\n",
              "      <td>NaN</td>\n",
              "      <td>NaN</td>\n",
              "    </tr>\n",
              "    <tr>\n",
              "      <th>1</th>\n",
              "      <td>32.969168</td>\n",
              "      <td>-0.104856</td>\n",
              "      <td>31.307545</td>\n",
              "      <td>-0.726834</td>\n",
              "      <td>-0.755635</td>\n",
              "    </tr>\n",
              "    <tr>\n",
              "      <th>2</th>\n",
              "      <td>-0.196583</td>\n",
              "      <td>-0.380663</td>\n",
              "      <td>-0.012896</td>\n",
              "      <td>0.590037</td>\n",
              "      <td>-0.073401</td>\n",
              "    </tr>\n",
              "    <tr>\n",
              "      <th>3</th>\n",
              "      <td>0.341125</td>\n",
              "      <td>-0.847785</td>\n",
              "      <td>0.089718</td>\n",
              "      <td>0.560761</td>\n",
              "      <td>0.084824</td>\n",
              "    </tr>\n",
              "    <tr>\n",
              "      <th>4</th>\n",
              "      <td>-0.974399</td>\n",
              "      <td>4.898054</td>\n",
              "      <td>-0.290851</td>\n",
              "      <td>0.682437</td>\n",
              "      <td>0.959780</td>\n",
              "    </tr>\n",
              "    <tr>\n",
              "      <th>5</th>\n",
              "      <td>28.437287</td>\n",
              "      <td>1.250031</td>\n",
              "      <td>0.166473</td>\n",
              "      <td>0.530541</td>\n",
              "      <td>-0.325147</td>\n",
              "    </tr>\n",
              "    <tr>\n",
              "      <th>6</th>\n",
              "      <td>-0.314947</td>\n",
              "      <td>-0.345867</td>\n",
              "      <td>-0.605208</td>\n",
              "      <td>-0.997892</td>\n",
              "      <td>-0.775662</td>\n",
              "    </tr>\n",
              "    <tr>\n",
              "      <th>7</th>\n",
              "      <td>-0.089573</td>\n",
              "      <td>0.611751</td>\n",
              "      <td>-0.855089</td>\n",
              "      <td>441.302786</td>\n",
              "      <td>2.459010</td>\n",
              "    </tr>\n",
              "    <tr>\n",
              "      <th>8</th>\n",
              "      <td>0.900881</td>\n",
              "      <td>-0.507654</td>\n",
              "      <td>10.509756</td>\n",
              "      <td>-0.518001</td>\n",
              "      <td>0.016855</td>\n",
              "    </tr>\n",
              "    <tr>\n",
              "      <th>9</th>\n",
              "      <td>-0.869447</td>\n",
              "      <td>0.713301</td>\n",
              "      <td>0.373947</td>\n",
              "      <td>0.316798</td>\n",
              "      <td>0.739762</td>\n",
              "    </tr>\n",
              "  </tbody>\n",
              "</table>\n",
              "</div>"
            ],
            "text/plain": [
              "           0         1          2           3         4\n",
              "0        NaN       NaN        NaN         NaN       NaN\n",
              "1  32.969168 -0.104856  31.307545   -0.726834 -0.755635\n",
              "2  -0.196583 -0.380663  -0.012896    0.590037 -0.073401\n",
              "3   0.341125 -0.847785   0.089718    0.560761  0.084824\n",
              "4  -0.974399  4.898054  -0.290851    0.682437  0.959780\n",
              "5  28.437287  1.250031   0.166473    0.530541 -0.325147\n",
              "6  -0.314947 -0.345867  -0.605208   -0.997892 -0.775662\n",
              "7  -0.089573  0.611751  -0.855089  441.302786  2.459010\n",
              "8   0.900881 -0.507654  10.509756   -0.518001  0.016855\n",
              "9  -0.869447  0.713301   0.373947    0.316798  0.739762"
            ]
          },
          "execution_count": 138,
          "metadata": {},
          "output_type": "execute_result"
        }
      ],
      "source": [
        "df.pct_change()"
      ]
    },
    {
      "cell_type": "code",
      "execution_count": 139,
      "metadata": {},
      "outputs": [
        {
          "data": {
            "text/html": [
              "<div>\n",
              "<style scoped>\n",
              "    .dataframe tbody tr th:only-of-type {\n",
              "        vertical-align: middle;\n",
              "    }\n",
              "\n",
              "    .dataframe tbody tr th {\n",
              "        vertical-align: top;\n",
              "    }\n",
              "\n",
              "    .dataframe thead th {\n",
              "        text-align: right;\n",
              "    }\n",
              "</style>\n",
              "<table border=\"1\" class=\"dataframe\">\n",
              "  <thead>\n",
              "    <tr style=\"text-align: right;\">\n",
              "      <th></th>\n",
              "      <th>0</th>\n",
              "      <th>1</th>\n",
              "      <th>2</th>\n",
              "      <th>3</th>\n",
              "      <th>4</th>\n",
              "    </tr>\n",
              "  </thead>\n",
              "  <tbody>\n",
              "    <tr>\n",
              "      <th>0</th>\n",
              "      <td>NaN</td>\n",
              "      <td>22.460674</td>\n",
              "      <td>-0.960667</td>\n",
              "      <td>20.146515</td>\n",
              "      <td>0.530639</td>\n",
              "    </tr>\n",
              "    <tr>\n",
              "      <th>1</th>\n",
              "      <td>NaN</td>\n",
              "      <td>-0.381772</td>\n",
              "      <td>0.419615</td>\n",
              "      <td>-0.821203</td>\n",
              "      <td>0.369261</td>\n",
              "    </tr>\n",
              "    <tr>\n",
              "      <th>2</th>\n",
              "      <td>NaN</td>\n",
              "      <td>-0.523421</td>\n",
              "      <td>1.262593</td>\n",
              "      <td>-0.711992</td>\n",
              "      <td>-0.202059</td>\n",
              "    </tr>\n",
              "    <tr>\n",
              "      <th>3</th>\n",
              "      <td>NaN</td>\n",
              "      <td>-0.945909</td>\n",
              "      <td>15.198099</td>\n",
              "      <td>-0.587497</td>\n",
              "      <td>-0.445382</td>\n",
              "    </tr>\n",
              "    <tr>\n",
              "      <th>4</th>\n",
              "      <td>NaN</td>\n",
              "      <td>11.461500</td>\n",
              "      <td>0.947569</td>\n",
              "      <td>-0.021348</td>\n",
              "      <td>-0.353955</td>\n",
              "    </tr>\n",
              "    <tr>\n",
              "      <th>5</th>\n",
              "      <td>NaN</td>\n",
              "      <td>-0.047508</td>\n",
              "      <td>0.009669</td>\n",
              "      <td>0.284100</td>\n",
              "      <td>-0.715143</td>\n",
              "    </tr>\n",
              "    <tr>\n",
              "      <th>6</th>\n",
              "      <td>NaN</td>\n",
              "      <td>-0.090500</td>\n",
              "      <td>-0.390629</td>\n",
              "      <td>-0.993142</td>\n",
              "      <td>29.309102</td>\n",
              "    </tr>\n",
              "    <tr>\n",
              "      <th>7</th>\n",
              "      <td>NaN</td>\n",
              "      <td>0.610110</td>\n",
              "      <td>-0.945212</td>\n",
              "      <td>19.931781</td>\n",
              "      <td>-0.762969</td>\n",
              "    </tr>\n",
              "    <tr>\n",
              "      <th>8</th>\n",
              "      <td>NaN</td>\n",
              "      <td>-0.582967</td>\n",
              "      <td>0.280797</td>\n",
              "      <td>-0.123432</td>\n",
              "      <td>-0.499944</td>\n",
              "    </tr>\n",
              "    <tr>\n",
              "      <th>9</th>\n",
              "      <td>NaN</td>\n",
              "      <td>4.472901</td>\n",
              "      <td>0.027109</td>\n",
              "      <td>-0.159892</td>\n",
              "      <td>-0.339323</td>\n",
              "    </tr>\n",
              "  </tbody>\n",
              "</table>\n",
              "</div>"
            ],
            "text/plain": [
              "    0          1          2          3          4\n",
              "0 NaN  22.460674  -0.960667  20.146515   0.530639\n",
              "1 NaN  -0.381772   0.419615  -0.821203   0.369261\n",
              "2 NaN  -0.523421   1.262593  -0.711992  -0.202059\n",
              "3 NaN  -0.945909  15.198099  -0.587497  -0.445382\n",
              "4 NaN  11.461500   0.947569  -0.021348  -0.353955\n",
              "5 NaN  -0.047508   0.009669   0.284100  -0.715143\n",
              "6 NaN  -0.090500  -0.390629  -0.993142  29.309102\n",
              "7 NaN   0.610110  -0.945212  19.931781  -0.762969\n",
              "8 NaN  -0.582967   0.280797  -0.123432  -0.499944\n",
              "9 NaN   4.472901   0.027109  -0.159892  -0.339323"
            ]
          },
          "execution_count": 139,
          "metadata": {},
          "output_type": "execute_result"
        }
      ],
      "source": [
        "df.pct_change(axis=ax1)"
      ]
    }
  ],
  "metadata": {
    "colab": {
      "collapsed_sections": [],
      "name": "ECID HEAD 2022-1A: Pandas- Alineamiento de Datos y Funciones",
      "provenance": []
    },
    "kernelspec": {
      "display_name": "Python 3",
      "name": "python3"
    },
    "language_info": {
      "codemirror_mode": {
        "name": "ipython",
        "version": 3
      },
      "file_extension": ".py",
      "mimetype": "text/x-python",
      "name": "python",
      "nbconvert_exporter": "python",
      "pygments_lexer": "ipython3",
      "version": "3.8.3"
    }
  },
  "nbformat": 4,
  "nbformat_minor": 0
}
