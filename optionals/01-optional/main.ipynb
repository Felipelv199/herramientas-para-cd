{
  "nbformat": 4,
  "nbformat_minor": 0,
  "metadata": {
    "colab": {
      "name": "ECID- HAD 2022-1: 03- Ejercicio de Ordenamiento Tate (Plantilla)",
      "provenance": [],
      "collapsed_sections": []
    },
    "kernelspec": {
      "name": "python3",
      "display_name": "Python 3"
    },
    "language_info": {
      "name": "python"
    }
  },
  "cells": [
    {
      "cell_type": "markdown",
      "metadata": {
        "id": "WU8Gr2iLJQ2H"
      },
      "source": [
        "# Museo Tate\n",
        "\"Tate holds the national collection of British art from 1500 to the present day and international modern and contemporary art. The collection embraces all media, from painting, drawing, sculpture and prints to photography, video and film, installation and performance. This dataset is not ordered in any particular way. This dataset has metadata about many pieces from their collection.\"  \n",
        "\n",
        "[https://corgis-edu.github.io/corgis/csv/tate/](https://corgis-edu.github.io/corgis/csv/tate/)"
      ]
    },
    {
      "cell_type": "code",
      "metadata": {
        "colab": {
          "base_uri": "https://localhost:8080/"
        },
        "id": "bJ-gsFq1JIBx",
        "outputId": "fe5958ee-f4a2-4ed7-bfee-7344562f654f"
      },
      "source": [
        "!wget https://corgis-edu.github.io/corgis/datasets/csv/tate/tate.csv"
      ],
      "execution_count": null,
      "outputs": [
        {
          "output_type": "stream",
          "name": "stdout",
          "text": [
            "--2021-09-18 04:24:25--  https://corgis-edu.github.io/corgis/datasets/csv/tate/tate.csv\n",
            "Resolving corgis-edu.github.io (corgis-edu.github.io)... 185.199.108.153, 185.199.109.153, 185.199.110.153, ...\n",
            "Connecting to corgis-edu.github.io (corgis-edu.github.io)|185.199.108.153|:443... connected.\n",
            "HTTP request sent, awaiting response... 200 OK\n",
            "Length: 1171024 (1.1M) [text/csv]\n",
            "Saving to: ‘tate.csv’\n",
            "\n",
            "tate.csv            100%[===================>]   1.12M  --.-KB/s    in 0.07s   \n",
            "\n",
            "2021-09-18 04:24:25 (17.1 MB/s) - ‘tate.csv’ saved [1171024/1171024]\n",
            "\n"
          ]
        }
      ]
    },
    {
      "cell_type": "markdown",
      "metadata": {
        "id": "XBfOUXffJpSG"
      },
      "source": [
        "## Instrucciones:\n",
        "Contesta las siguientes preguntas rellenando en los cuadros correspondientes los códigos necesarios y ejecutando el código para mostrar la solución adecuada.\n",
        "El objetivo de la práctica es el uso de las funciones básicas de Python para el manejo de la información, evita utilizar la librería Pandas (puedes regresar después a tratar los mismos ejercicios utilizando Pandas).\n",
        "Analiza la información del vínculo proporcionado para que te familiarices con la base de datos.\n",
        "\n",
        "### Ejercicio 1  \n",
        "Abre el archivo que acabamos de descargar, guarda las categorías en una lista y construya una lista con todas las obras del museo donde cada elemento sea una lista con la información de una obra de arte.\n"
      ]
    },
    {
      "cell_type": "code",
      "metadata": {
        "colab": {
          "base_uri": "https://localhost:8080/"
        },
        "id": "r8HY0H8kJiYP",
        "outputId": "b4069da5-96ea-4649-def4-c1e002784741"
      },
      "source": [
        "#Ejercicio 1\n",
        "import csv\n",
        "f=open(\"tate.csv\")\n",
        "c= csv.reader(f)\n",
        "categorias= next(c)\n",
        "l= list(c)\n",
        "l[4]"
      ],
      "execution_count": null,
      "outputs": [
        {
          "output_type": "execute_result",
          "data": {
            "text/plain": [
              "['Male',\n",
              " 'Abrahams, Ivor',\n",
              " 'artist',\n",
              " 'Fibreglass and polystyrene',\n",
              " 'http://www.tate.org.uk/art/images/work/T/T03/T03369_8.jpg',\n",
              " 'Lady in Niche',\n",
              " 'http://www.tate.org.uk/art/artworks/abrahams-lady-in-niche-t03369',\n",
              " '762.0',\n",
              " '1575.0',\n",
              " '2095.0',\n",
              " '1982',\n",
              " '1970',\n",
              " '1973',\n",
              " 'Purchased 1982',\n",
              " 'Wigan, United Kingdom',\n",
              " '1935',\n",
              " '',\n",
              " '0']"
            ]
          },
          "metadata": {},
          "execution_count": 26
        }
      ]
    },
    {
      "cell_type": "markdown",
      "metadata": {
        "id": "YT-eBd4aMiNA"
      },
      "source": [
        "### Ejercicio 2\n",
        "Crea una clase de objetos llamada __Obra__ que pueda contener toda la información de cada obra de arte.\n",
        "\n",
        "Genera una lista __obras__ donde cada elemento sea una __Obra__ con toda la información de las obras del museo."
      ]
    },
    {
      "cell_type": "code",
      "metadata": {
        "id": "P7O7NNmwKrTx"
      },
      "source": [
        "#Ejercicio 2"
      ],
      "execution_count": null,
      "outputs": []
    },
    {
      "cell_type": "markdown",
      "metadata": {
        "id": "-REx1Cw7NaYI"
      },
      "source": [
        "_A partir de este punto utiliza la lista __obras__ para resolver los ejercicios._\n",
        "### Ejercicio 3\n",
        "Cuenta las obras de arte hechas por hombres.\n",
        "Cuenta las obras de arte hechas por mujeres."
      ]
    },
    {
      "cell_type": "code",
      "metadata": {
        "id": "GFlKO9DFLOX6"
      },
      "source": [
        "#Ejercicio 3"
      ],
      "execution_count": null,
      "outputs": []
    },
    {
      "cell_type": "markdown",
      "metadata": {
        "id": "cGoMJxVmN4mw"
      },
      "source": [
        "### Ejercicio 4\n",
        "Filtra las obras de arte adquiridas por el museo entre 1980 y 1990\n"
      ]
    },
    {
      "cell_type": "code",
      "metadata": {
        "id": "ZVEZ2iMHO9sG"
      },
      "source": [
        "#Ejercicio 4"
      ],
      "execution_count": null,
      "outputs": []
    },
    {
      "cell_type": "markdown",
      "metadata": {
        "id": "D-F3EtgHOtbK"
      },
      "source": [
        "### Ejercicio 5\n",
        "Del resultado del ejercicio 4, filtra las obras que fueron hechas con pintura al óleo (Oil paint)"
      ]
    },
    {
      "cell_type": "code",
      "metadata": {
        "id": "_e4M3Ag2OMxN"
      },
      "source": [
        "#Ejercicio 5\n"
      ],
      "execution_count": null,
      "outputs": []
    },
    {
      "cell_type": "markdown",
      "metadata": {
        "id": "VaKO0x--PNIg"
      },
      "source": [
        "### Ejercicio 6\n",
        "Ordena el resultado del ejercicio 5 de acuerdo a su fecha de creación.\n"
      ]
    },
    {
      "cell_type": "code",
      "metadata": {
        "id": "NDTi-ZkwOTTk"
      },
      "source": [
        "#Ejercicio 6"
      ],
      "execution_count": null,
      "outputs": []
    },
    {
      "cell_type": "markdown",
      "metadata": {
        "id": "np5xgUPWPcaW"
      },
      "source": [
        "### Ejercicio 7\n",
        "Ordena el resultado del ejercicio 5, poniendo primero las obras hechas por mujeres y después las hechas por hombres, dentro de cada una de estas, ordena por la fecha de adquisición y en caso de que sean del mismo año, por nombre del artista."
      ]
    },
    {
      "cell_type": "code",
      "metadata": {
        "id": "R5IisuYtPbBA"
      },
      "source": [
        "# Ejercicio 7"
      ],
      "execution_count": null,
      "outputs": []
    },
    {
      "cell_type": "markdown",
      "metadata": {
        "id": "VjV-OTSdQQIf"
      },
      "source": [
        "### Ejercicio 8\n",
        "- Genera una lista con las diferentes décadas de creación de las obras del museo.\n",
        "- De la lista de __obras__ del ejercicio 2, genera un diccionario donde para cada década de creación, cuentes cuántas obras hay en la colección que se hayan creado en esa década.\n"
      ]
    },
    {
      "cell_type": "code",
      "metadata": {
        "id": "ve7a6KNlQPMZ"
      },
      "source": [
        "#Ejercicio 9"
      ],
      "execution_count": null,
      "outputs": []
    },
    {
      "cell_type": "markdown",
      "metadata": {
        "id": "VWg3aiuZQ02h"
      },
      "source": [
        "### Ejercicio 10\n",
        "Ordena la lista de __obras__ del ejercicio 2 ordenando de acuerdo a si la década de creación de la obra tiene más obras en el museo. (Si por ejemplo, la década de 1970 tiene más obras que la década de 1960, las obras creadas en 1970 van antes que las de 1960). Dentro de cada década, ordena de acuerdo al nombre de la obra."
      ]
    },
    {
      "cell_type": "code",
      "metadata": {
        "id": "iu7l10fXQ2c5"
      },
      "source": [
        "### Ejercicio 10"
      ],
      "execution_count": null,
      "outputs": []
    },
    {
      "cell_type": "markdown",
      "metadata": {
        "id": "1symL9cnR8VJ"
      },
      "source": [
        "### Ejercicio 11\n",
        "Para cada uno de los lugares de nacimiento de los artistas con más obras en el museo (en caso de empate, ordenar por el nombre del lugar), muestra la obra con fecha de creación más antigua."
      ]
    },
    {
      "cell_type": "code",
      "metadata": {
        "id": "PfImOx8BSM6r"
      },
      "source": [
        "### Ejercicio 11"
      ],
      "execution_count": null,
      "outputs": []
    },
    {
      "cell_type": "code",
      "metadata": {
        "id": "X1rRlalESPQ7"
      },
      "source": [
        ""
      ],
      "execution_count": null,
      "outputs": []
    }
  ]
}